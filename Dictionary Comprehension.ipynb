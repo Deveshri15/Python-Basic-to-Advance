{
 "cells": [
  {
   "cell_type": "code",
   "execution_count": 1,
   "id": "71371bbc-2dcd-4fda-ba19-391a44dbb904",
   "metadata": {},
   "outputs": [
    {
     "name": "stdout",
     "output_type": "stream",
     "text": [
      "{1: 1, 2: 4, 3: 9, 4: 16}\n"
     ]
    }
   ],
   "source": [
    "# dictionary comprehension\n",
    "# Square = {1:1,2:4,3:9}\n",
    "square = {num:num**2 for num in range(1,5)}\n",
    "print(square)"
   ]
  },
  {
   "cell_type": "code",
   "execution_count": 3,
   "id": "a977fd15-cd07-470c-bcdd-530a29c90533",
   "metadata": {},
   "outputs": [
    {
     "name": "stdout",
     "output_type": "stream",
     "text": [
      "{'Square of 1 is': 1, 'Square of 2 is': 4, 'Square of 3 is': 9, 'Square of 4 is': 16}\n"
     ]
    }
   ],
   "source": [
    "square1 = {f\"Square of {num} is\":num**2 for num in range(1,5)}\n",
    "print(square1)"
   ]
  },
  {
   "cell_type": "code",
   "execution_count": 5,
   "id": "4c93bb1d-2e0d-4c35-8abc-639121ad3422",
   "metadata": {},
   "outputs": [
    {
     "name": "stdout",
     "output_type": "stream",
     "text": [
      "Square of 1 is 1\n",
      "Square of 2 is 4\n",
      "Square of 3 is 9\n",
      "Square of 4 is 16\n"
     ]
    }
   ],
   "source": [
    "for O,P in square1.items():\n",
    "    print(O, P)"
   ]
  },
  {
   "cell_type": "code",
   "execution_count": 7,
   "id": "f75ff061-a4b7-4e12-81f1-8e729a062ff5",
   "metadata": {},
   "outputs": [
    {
     "name": "stdout",
     "output_type": "stream",
     "text": [
      "{'D': 1, 'E': 2, 'V': 1, 'S': 1, 'H': 1, 'R': 1, 'I': 1}\n"
     ]
    }
   ],
   "source": [
    "string = \"DEVESHRI\"    \n",
    "word_count = {i:string.count(i) for i in string}\n",
    "print(word_count)"
   ]
  },
  {
   "cell_type": "code",
   "execution_count": 9,
   "id": "85826489-094e-462e-9b6f-fd743a7dd673",
   "metadata": {},
   "outputs": [
    {
     "name": "stdout",
     "output_type": "stream",
     "text": [
      "{1: 'odd', 2: 'Even', 3: 'odd', 4: 'Even', 5: 'odd', 6: 'Even', 7: 'odd', 8: 'Even', 9: 'odd', 10: 'Even'}\n"
     ]
    }
   ],
   "source": [
    "odd_even = {i:(\"Even\" if i%2==0 else \"odd\") for i in range(1,11)}\n",
    "print(odd_even)"
   ]
  }
 ],
 "metadata": {
  "kernelspec": {
   "display_name": "Python [conda env:base] *",
   "language": "python",
   "name": "conda-base-py"
  },
  "language_info": {
   "codemirror_mode": {
    "name": "ipython",
    "version": 3
   },
   "file_extension": ".py",
   "mimetype": "text/x-python",
   "name": "python",
   "nbconvert_exporter": "python",
   "pygments_lexer": "ipython3",
   "version": "3.12.7"
  }
 },
 "nbformat": 4,
 "nbformat_minor": 5
}

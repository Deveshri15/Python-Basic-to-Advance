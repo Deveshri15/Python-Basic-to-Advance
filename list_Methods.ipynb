{
 "cells": [
  {
   "cell_type": "code",
   "execution_count": 1,
   "id": "55ff2a11-0864-465b-9465-64637fd84f1a",
   "metadata": {},
   "outputs": [
    {
     "name": "stdout",
     "output_type": "stream",
     "text": [
      "apple is present\n"
     ]
    }
   ],
   "source": [
    "fruits = [\"orange\",\"apple\",\"pear\",\"banana\",\"kiwi\",\"apple\",\"banana\"]\n",
    "\n",
    "if \"apple\" in fruits:\n",
    "    print(\"apple is present\")\n",
    "else:\n",
    "    print(\"apple is not present\")"
   ]
  },
  {
   "cell_type": "code",
   "execution_count": 3,
   "id": "972d1553-8dbc-492d-9db5-09f4b8183803",
   "metadata": {},
   "outputs": [],
   "source": [
    "# Some common methods in list\n",
    "# count\n",
    "# sort method\n",
    "# sorted function\n",
    "# reversed\n",
    "# clear\n",
    "# copy\n",
    "# index method"
   ]
  },
  {
   "cell_type": "code",
   "execution_count": 5,
   "id": "ca5d5529-a7ef-4702-a187-da74ba961c37",
   "metadata": {},
   "outputs": [
    {
     "name": "stdout",
     "output_type": "stream",
     "text": [
      "2\n"
     ]
    }
   ],
   "source": [
    "print(fruits.count(\"apple\"))"
   ]
  },
  {
   "cell_type": "code",
   "execution_count": 7,
   "id": "b06e45cb-c84a-4bc4-a690-6d1e84a76e9f",
   "metadata": {},
   "outputs": [
    {
     "name": "stdout",
     "output_type": "stream",
     "text": [
      "['apple', 'apple', 'banana', 'banana', 'kiwi', 'orange', 'pear']\n"
     ]
    }
   ],
   "source": [
    "fruits.sort() # sort ascending order\n",
    "print(fruits)"
   ]
  },
  {
   "cell_type": "code",
   "execution_count": 9,
   "id": "435c4850-fbf0-49bc-a764-0182d6abbb23",
   "metadata": {},
   "outputs": [
    {
     "name": "stdout",
     "output_type": "stream",
     "text": [
      "['pear', 'orange', 'kiwi', 'banana', 'banana', 'apple', 'apple']\n"
     ]
    }
   ],
   "source": [
    "fruits.sort(reverse=True) #sort descending order\n",
    "print(fruits)"
   ]
  },
  {
   "cell_type": "code",
   "execution_count": 11,
   "id": "19a5544f-bef0-44d0-b42e-4c6a9ab7f82a",
   "metadata": {},
   "outputs": [
    {
     "name": "stdout",
     "output_type": "stream",
     "text": [
      "[1, 3, 5, 9, 10]\n"
     ]
    }
   ],
   "source": [
    "number=[3,5,1,9,10]\n",
    "number.sort()\n",
    "print(number)"
   ]
  },
  {
   "cell_type": "code",
   "execution_count": 13,
   "id": "26fc47f4-3cfb-4cbb-aa3a-8c812b4d5735",
   "metadata": {},
   "outputs": [
    {
     "name": "stdout",
     "output_type": "stream",
     "text": [
      "['apple', 'apple', 'banana', 'banana', 'kiwi', 'orange', 'pear']\n",
      "['orange', 'apple', 'pear', 'banana', 'kiwi', 'apple', 'banana']\n",
      "['pear', 'orange', 'kiwi', 'banana', 'banana', 'apple', 'apple']\n"
     ]
    }
   ],
   "source": [
    "# Sorted  ---> used to sort number without affecting original one\n",
    "fruits = [\"orange\",\"apple\",\"pear\",\"banana\",\"kiwi\",\"apple\",\"banana\"]\n",
    "print(sorted(fruits))\n",
    "print(fruits)  # --->  original list doesn't affected\n",
    "\n",
    "print(sorted(fruits, reverse=True))"
   ]
  },
  {
   "cell_type": "code",
   "execution_count": 15,
   "id": "b291b36d-a3c3-4fc6-8901-5794a2dd90be",
   "metadata": {},
   "outputs": [
    {
     "name": "stdout",
     "output_type": "stream",
     "text": [
      "[3, 5, 1, 9, 10]\n",
      "[]\n"
     ]
    }
   ],
   "source": [
    "number=[3,5,1,9,10]\n",
    "print(number) # before clear\n",
    "number.clear()\n",
    "print(number) # after clear"
   ]
  },
  {
   "cell_type": "code",
   "execution_count": 17,
   "id": "c2f0b4fa-2702-4f7e-864d-12139b9dcbe8",
   "metadata": {},
   "outputs": [
    {
     "name": "stdout",
     "output_type": "stream",
     "text": [
      "[3, 5, 1, 9, 10]\n",
      "[3, 12, 1, 9, 10]\n",
      "[3, 5, 1, 9, 10]\n"
     ]
    }
   ],
   "source": [
    "number=[3,5,1,9,10]\n",
    "number_copy = number.copy()\n",
    "print(number_copy)\n",
    "\n",
    "number_copy[1]=12\n",
    "print(number_copy) #---> Copy changes according to command\n",
    "print(number) #---> Original list remains same"
   ]
  },
  {
   "cell_type": "code",
   "execution_count": 19,
   "id": "298ca471-0c76-4781-984a-0f2a2e8621cf",
   "metadata": {},
   "outputs": [
    {
     "name": "stdout",
     "output_type": "stream",
     "text": [
      "1\n",
      "2\n",
      "7\n",
      "7\n"
     ]
    }
   ],
   "source": [
    "# index method\n",
    "numbers = [2,8,6,9,7,3,12]\n",
    "print(numbers.index(8))\n",
    "\n",
    "numbers = [2,8,6,9,7,3,12,6,85,52]\n",
    "print(numbers.index(6)) # syntax index.(number to  find, from index position (default = 0))\n",
    "print(numbers.index(6,3)) # syntax index.(number to  find, from index position)\n",
    "print(numbers.index(6,3,10)) # syntax index.(number to  find, from index position,end index)"
   ]
  }
 ],
 "metadata": {
  "kernelspec": {
   "display_name": "Python [conda env:base] *",
   "language": "python",
   "name": "conda-base-py"
  },
  "language_info": {
   "codemirror_mode": {
    "name": "ipython",
    "version": 3
   },
   "file_extension": ".py",
   "mimetype": "text/x-python",
   "name": "python",
   "nbconvert_exporter": "python",
   "pygments_lexer": "ipython3",
   "version": "3.12.7"
  }
 },
 "nbformat": 4,
 "nbformat_minor": 5
}

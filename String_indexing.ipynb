{
 "cells": [
  {
   "cell_type": "code",
   "execution_count": 1,
   "id": "c4afcc3d-f898-4374-a117-03ec09853dc3",
   "metadata": {},
   "outputs": [
    {
     "name": "stdout",
     "output_type": "stream",
     "text": [
      "t\n",
      "n\n"
     ]
    }
   ],
   "source": [
    "#string indexing\n",
    "\n",
    "language=\"python\"\n",
    "\n",
    "#position (index number)\n",
    "\n",
    "# p = 0, -6\n",
    "# y = 1, -5\n",
    "# t = 2, -4\n",
    "# h = 3, -3\n",
    "# o = 4, -2\n",
    "# n = 5, -1\n",
    "\n",
    "print(language[2])\n",
    "print(language[-1])"
   ]
  },
  {
   "cell_type": "code",
   "execution_count": 3,
   "id": "01640714-1f77-4700-86dc-a93735ccf526",
   "metadata": {},
   "outputs": [
    {
     "name": "stdout",
     "output_type": "stream",
     "text": [
      "ytho\n",
      "hon\n",
      "pytho\n"
     ]
    }
   ],
   "source": [
    "#Slicing/ Selecting sub sequence\n",
    "# Syntax - (start argument: stop argument -1)\n",
    "\n",
    "print(language[1:5])\n",
    "print(language[3:])\n",
    "print(language[:5])"
   ]
  },
  {
   "cell_type": "code",
   "execution_count": 5,
   "id": "fb9a6405-cc8e-4293-a9bf-682804e5ab1e",
   "metadata": {},
   "outputs": [
    {
     "name": "stdout",
     "output_type": "stream",
     "text": [
      "pto\n",
      "pto\n",
      "nhy\n"
     ]
    }
   ],
   "source": [
    "# String step argument\n",
    "# Syntax - (start argument: stop argument -1 :step)\n",
    "\n",
    "print(language[0:5:2])\n",
    "print(language[::2])\n",
    "print(language[::-2])"
   ]
  },
  {
   "cell_type": "code",
   "execution_count": null,
   "id": "2524cfed-f105-4a21-847c-214fbf7bcb67",
   "metadata": {},
   "outputs": [],
   "source": []
  }
 ],
 "metadata": {
  "kernelspec": {
   "display_name": "Python [conda env:base] *",
   "language": "python",
   "name": "conda-base-py"
  },
  "language_info": {
   "codemirror_mode": {
    "name": "ipython",
    "version": 3
   },
   "file_extension": ".py",
   "mimetype": "text/x-python",
   "name": "python",
   "nbconvert_exporter": "python",
   "pygments_lexer": "ipython3",
   "version": "3.12.7"
  }
 },
 "nbformat": 4,
 "nbformat_minor": 5
}

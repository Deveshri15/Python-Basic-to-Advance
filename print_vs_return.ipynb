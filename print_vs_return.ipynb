{
 "cells": [
  {
   "cell_type": "code",
   "execution_count": null,
   "id": "13327315-cfee-462c-b595-0d4ed214e045",
   "metadata": {},
   "outputs": [],
   "source": [
    "# Print vs return  -> The print command can be used just about anywhere in a Python program to output information to the console. \n",
    "The return statement can only be used in functions.\n",
    "# Return give output in function we need to print it."
   ]
  },
  {
   "cell_type": "code",
   "execution_count": 1,
   "id": "6a0e2993-368f-43ff-892c-e48d255d8815",
   "metadata": {},
   "outputs": [
    {
     "name": "stdout",
     "output_type": "stream",
     "text": [
      "51\n"
     ]
    }
   ],
   "source": [
    "def add_three(a,b,c):\n",
    "    return a+b+c\n",
    "\n",
    "print(add_three(15,17,19))"
   ]
  },
  {
   "cell_type": "code",
   "execution_count": 3,
   "id": "cdc618cc-b426-48c1-9567-92877543ec1c",
   "metadata": {},
   "outputs": [
    {
     "name": "stdout",
     "output_type": "stream",
     "text": [
      "55\n"
     ]
    }
   ],
   "source": [
    "def add_three(a,b,c):\n",
    "    print(a+b+c)\n",
    "          \n",
    "add_three(10,25,20) "
   ]
  }
 ],
 "metadata": {
  "kernelspec": {
   "display_name": "Python [conda env:base] *",
   "language": "python",
   "name": "conda-base-py"
  },
  "language_info": {
   "codemirror_mode": {
    "name": "ipython",
    "version": 3
   },
   "file_extension": ".py",
   "mimetype": "text/x-python",
   "name": "python",
   "nbconvert_exporter": "python",
   "pygments_lexer": "ipython3",
   "version": "3.12.7"
  }
 },
 "nbformat": 4,
 "nbformat_minor": 5
}

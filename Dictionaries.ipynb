{
 "cells": [
  {
   "cell_type": "code",
   "execution_count": null,
   "id": "a002209d-ef06-42b1-8dda-34f7829529d0",
   "metadata": {},
   "outputs": [],
   "source": [
    "# dictionaries intro\n",
    "\n",
    "#Q - why we use dictionaries?\n",
    "#A - Because of limitations of lists, lists are not enough to represent real data"
   ]
  },
  {
   "cell_type": "code",
   "execution_count": 1,
   "id": "7972bdc8-ad2d-4cfa-b533-d712d10b1ac5",
   "metadata": {},
   "outputs": [],
   "source": [
    "# Example --\n",
    "user = ['DEVESHRI', 30, ['LID'], ['Krishna flute tune']] \n",
    "\n",
    "# this list contains user name, age, fav movies, fav tunes\n",
    "# you can do this but this is not a good way to do this."
   ]
  },
  {
   "cell_type": "code",
   "execution_count": 11,
   "id": "6e5a6c95-fb4e-4200-9619-1182f3059729",
   "metadata": {},
   "outputs": [
    {
     "name": "stdout",
     "output_type": "stream",
     "text": [
      "{'name': 'Deveshri', 'age': 30}\n",
      "<class 'dict'>\n"
     ]
    }
   ],
   "source": [
    "#Q. what are dictionaries\n",
    "#A. unordered collections of data in key value pair.\n",
    "# how to create dictionaries\n",
    "\n",
    "user = {\"name\": 'Deveshri', \"age\": 30}\n",
    "print(user) \n",
    "print(type(user))"
   ]
  },
  {
   "cell_type": "code",
   "execution_count": 5,
   "id": "981917a3-31f9-4082-b8b9-54c63d6a9fde",
   "metadata": {},
   "outputs": [
    {
     "name": "stdout",
     "output_type": "stream",
     "text": [
      "{'name': 'Deveshri', 'age': 31}\n",
      "{'name': 'Deveshri', 'age': 30}\n"
     ]
    }
   ],
   "source": [
    "# Dict does not repeate same key again it update same key with new values\n",
    "dt = {\"name\":'Deveshri',\"age\": 30,\"age\":31}\n",
    "print(dt)\n",
    "dt = {\"name\":'Deveshri',\"age\": 31,\"age\":30}\n",
    "print(dt)"
   ]
  },
  {
   "cell_type": "code",
   "execution_count": 7,
   "id": "c5489c7b-7567-4c6e-a3d2-1befae68f40e",
   "metadata": {},
   "outputs": [
    {
     "name": "stdout",
     "output_type": "stream",
     "text": [
      "{'user1': {'name': 'kriti', 'age': 20}, 'user2': {'name': 'om', 'age': 25}, 'user3': {'name': 'soni', 'age': 23}}\n",
      "{'name': 'kriti', 'age': 20}\n"
     ]
    }
   ],
   "source": [
    "# Which type of data a dictionary can store?\n",
    "# Anything ---> Number,strings, list, dict\n",
    "\n",
    "# How to add data to empty dictionary\n",
    "users_info = {\n",
    "    \"user1\":{\"name\":\"kriti\",\"age\":20},\n",
    "    \"user2\":{\"name\":\"om\",\"age\":25},\n",
    "    \"user3\":{\"name\":\"soni\",\"age\":23}\n",
    "}  \n",
    "\n",
    "print(users_info)\n",
    "print(users_info[\"user1\"])"
   ]
  },
  {
   "cell_type": "code",
   "execution_count": 9,
   "id": "52c7c026-2292-454d-ac17-bfec6076c58e",
   "metadata": {},
   "outputs": [
    {
     "name": "stdout",
     "output_type": "stream",
     "text": [
      "{'name': 'Deveshri', 'age': 31}\n"
     ]
    }
   ],
   "source": [
    "# How to add data to empty dictionary\n",
    "user_info2 ={}\n",
    "user_info2['name']=\"Deveshri\"\n",
    "user_info2[\"age\"]=31\n",
    "print(user_info2)"
   ]
  },
  {
   "cell_type": "code",
   "execution_count": null,
   "id": "188d09e7-bafa-4679-9a26-631c92e381c6",
   "metadata": {},
   "outputs": [],
   "source": []
  }
 ],
 "metadata": {
  "kernelspec": {
   "display_name": "Python [conda env:base] *",
   "language": "python",
   "name": "conda-base-py"
  },
  "language_info": {
   "codemirror_mode": {
    "name": "ipython",
    "version": 3
   },
   "file_extension": ".py",
   "mimetype": "text/x-python",
   "name": "python",
   "nbconvert_exporter": "python",
   "pygments_lexer": "ipython3",
   "version": "3.12.7"
  }
 },
 "nbformat": 4,
 "nbformat_minor": 5
}

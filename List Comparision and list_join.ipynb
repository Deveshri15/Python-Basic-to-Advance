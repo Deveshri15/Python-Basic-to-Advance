{
 "cells": [
  {
   "cell_type": "code",
   "execution_count": 1,
   "id": "d1026c21-1231-409b-a634-8f4df6fc010c",
   "metadata": {},
   "outputs": [
    {
     "name": "stdout",
     "output_type": "stream",
     "text": [
      "False\n",
      "True\n",
      "False\n"
     ]
    }
   ],
   "source": [
    "fruits1 = [\"orange\",\"apple\",\"pear\"]\n",
    "fruits2 = [\"banana\",\"kiwi\",\"apple\"]\n",
    "fruits3 = [\"orange\",\"apple\",\"pear\"]\n",
    "\n",
    "print(fruits1==fruits2)  # False ---> Because list elements are not same\n",
    "\n",
    "print(fruits1==fruits3)  # True ---> Because list elements are same\n",
    "\n",
    "print(fruits1 is fruits3) # False ---> Because here list elements are same but there location in memory is different  \n"
   ]
  },
  {
   "cell_type": "code",
   "execution_count": 5,
   "id": "37613522-586a-4dbb-9042-167c70597e12",
   "metadata": {},
   "outputs": [
    {
     "name": "stdout",
     "output_type": "stream",
     "text": [
      "['Deveshri', '30']\n",
      "Deveshri 30\n",
      "['Deveshri', '30']\n",
      "Deveshri,30\n"
     ]
    }
   ],
   "source": [
    "# Split method\n",
    "# Convert string to list\n",
    "\n",
    "user_info = \"Deveshri 30\".split(\" \")\n",
    "print(user_info)\n",
    "\n",
    "name,age = \"Deveshri 30\".split(\" \")\n",
    "print(name,age)\n",
    "\n",
    "# join method\n",
    "# Convert list to string\n",
    "user_info = [\"Deveshri\", \"30\"]\n",
    "print(user_info)\n",
    "\n",
    "print(\",\".join(user_info))"
   ]
  },
  {
   "cell_type": "code",
   "execution_count": null,
   "id": "9ab552a2-3860-4339-9065-6d8224647648",
   "metadata": {},
   "outputs": [],
   "source": []
  }
 ],
 "metadata": {
  "kernelspec": {
   "display_name": "Python [conda env:base] *",
   "language": "python",
   "name": "conda-base-py"
  },
  "language_info": {
   "codemirror_mode": {
    "name": "ipython",
    "version": 3
   },
   "file_extension": ".py",
   "mimetype": "text/x-python",
   "name": "python",
   "nbconvert_exporter": "python",
   "pygments_lexer": "ipython3",
   "version": "3.12.7"
  }
 },
 "nbformat": 4,
 "nbformat_minor": 5
}

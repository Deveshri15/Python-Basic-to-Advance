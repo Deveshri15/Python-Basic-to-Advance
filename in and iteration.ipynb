{
 "cells": [
  {
   "cell_type": "code",
   "execution_count": 1,
   "id": "7a8a9b91-a7bb-4d98-a853-15ad3af72297",
   "metadata": {},
   "outputs": [
    {
     "name": "stdout",
     "output_type": "stream",
     "text": [
      "{'name': 'Deveshri', 'age': 30, 'fav_movie': ['Dil'], 'fav_song': ['fanna']}\n"
     ]
    }
   ],
   "source": [
    "# in keyword and iteration\n",
    "user_info = {\n",
    "    \"name\":'Deveshri',\n",
    "    \"age\": 30,\n",
    "    \"fav_movie\": ['Dil'],\n",
    "    \"fav_song\":['fanna']\n",
    "}\n",
    "print(user_info)"
   ]
  },
  {
   "cell_type": "code",
   "execution_count": 3,
   "id": "3523ee93-dcf4-4977-b865-4cd19feb50b8",
   "metadata": {},
   "outputs": [
    {
     "name": "stdout",
     "output_type": "stream",
     "text": [
      "present\n"
     ]
    }
   ],
   "source": [
    "# Check if key exist in dictionary\n",
    "if \"name\" in user_info:\n",
    "    print(\"present\")\n",
    "else:\n",
    "    print(\"Not Present\")"
   ]
  },
  {
   "cell_type": "code",
   "execution_count": 5,
   "id": "6bb7f0a5-d735-490a-b91e-0380642ab927",
   "metadata": {},
   "outputs": [
    {
     "name": "stdout",
     "output_type": "stream",
     "text": [
      "Not Present\n"
     ]
    }
   ],
   "source": [
    "if \"names\" in user_info:\n",
    "    print(\"present\")\n",
    "else:\n",
    "    print(\"Not Present\")"
   ]
  },
  {
   "cell_type": "code",
   "execution_count": 9,
   "id": "233e41a5-a90b-4291-b1cc-ba4877a75a97",
   "metadata": {},
   "outputs": [
    {
     "name": "stdout",
     "output_type": "stream",
     "text": [
      "present\n"
     ]
    }
   ],
   "source": [
    "# Check if values exist in dictionary\n",
    "if \"Deveshri\" in user_info.values():\n",
    "    print(\"present\")\n",
    "else:\n",
    "    print(\"Not Present\")"
   ]
  },
  {
   "cell_type": "code",
   "execution_count": 11,
   "id": "cced4a91-b202-488b-bc32-bce3b9680bbf",
   "metadata": {},
   "outputs": [
    {
     "name": "stdout",
     "output_type": "stream",
     "text": [
      "present\n"
     ]
    }
   ],
   "source": [
    "if 30 in user_info.values():\n",
    "    print(\"present\")\n",
    "else:\n",
    "    print(\"Not Present\")"
   ]
  },
  {
   "cell_type": "code",
   "execution_count": 13,
   "id": "f96695e1-9630-42a4-a992-1d7c1e3119fa",
   "metadata": {},
   "outputs": [
    {
     "name": "stdout",
     "output_type": "stream",
     "text": [
      "name\n",
      "age\n",
      "fav_movie\n",
      "fav_song\n"
     ]
    }
   ],
   "source": [
    "# loops in dictionary\n",
    "for i in user_info:\n",
    "    print(i)  # to print keys"
   ]
  },
  {
   "cell_type": "code",
   "execution_count": 15,
   "id": "bb0dcc42-7083-45be-93fd-158d0a1890f7",
   "metadata": {},
   "outputs": [
    {
     "name": "stdout",
     "output_type": "stream",
     "text": [
      "Deveshri\n",
      "30\n",
      "['Dil']\n",
      "['fanna']\n"
     ]
    }
   ],
   "source": [
    "for i in user_info.values():\n",
    "    print(i)  # to print values"
   ]
  },
  {
   "cell_type": "code",
   "execution_count": 17,
   "id": "023e9b32-3d54-4f27-a15e-e0bfb3a960eb",
   "metadata": {},
   "outputs": [
    {
     "name": "stdout",
     "output_type": "stream",
     "text": [
      "dict_keys(['name', 'age', 'fav_movie', 'fav_song'])\n",
      "dict_values(['Deveshri', 30, ['Dil'], ['fanna']])\n"
     ]
    }
   ],
   "source": [
    "# key methods and values method\n",
    "print(user_info.keys())\n",
    "print(user_info.values())"
   ]
  },
  {
   "cell_type": "code",
   "execution_count": 19,
   "id": "614dc0ab-bb2d-4a67-a3d5-5fcb6e30f32f",
   "metadata": {},
   "outputs": [
    {
     "name": "stdout",
     "output_type": "stream",
     "text": [
      "dict_items([('name', 'Deveshri'), ('age', 30), ('fav_movie', ['Dil']), ('fav_song', ['fanna'])])\n"
     ]
    }
   ],
   "source": [
    "# items\n",
    "dict_items = user_info.items()\n",
    "print(dict_items)"
   ]
  },
  {
   "cell_type": "code",
   "execution_count": 21,
   "id": "91c810b8-e204-4dfa-b9a8-20e65cc0a206",
   "metadata": {},
   "outputs": [
    {
     "name": "stdout",
     "output_type": "stream",
     "text": [
      "key is name and value is Deveshri\n",
      "key is age and value is 30\n",
      "key is fav_movie and value is ['Dil']\n",
      "key is fav_song and value is ['fanna']\n"
     ]
    }
   ],
   "source": [
    "for key,value in user_info.items():\n",
    "    print(f\"key is {key} and value is {value}\")"
   ]
  },
  {
   "cell_type": "code",
   "execution_count": null,
   "id": "49972eff-c36e-4e25-a6ac-c827633efe37",
   "metadata": {},
   "outputs": [],
   "source": []
  }
 ],
 "metadata": {
  "kernelspec": {
   "display_name": "Python [conda env:base] *",
   "language": "python",
   "name": "conda-base-py"
  },
  "language_info": {
   "codemirror_mode": {
    "name": "ipython",
    "version": 3
   },
   "file_extension": ".py",
   "mimetype": "text/x-python",
   "name": "python",
   "nbconvert_exporter": "python",
   "pygments_lexer": "ipython3",
   "version": "3.12.7"
  }
 },
 "nbformat": 4,
 "nbformat_minor": 5
}

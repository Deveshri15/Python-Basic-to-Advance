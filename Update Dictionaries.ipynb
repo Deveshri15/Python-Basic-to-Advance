{
 "cells": [
  {
   "cell_type": "code",
   "execution_count": 1,
   "id": "1ab20187-6f95-4716-870e-f2e3bf0b5fc5",
   "metadata": {},
   "outputs": [
    {
     "name": "stdout",
     "output_type": "stream",
     "text": [
      "{'name': 'Deveshri', 'age': 31, 'fav_movie': ['Dil', 'Fana'], 'fav_tunes': ['krishna flute']}\n"
     ]
    }
   ],
   "source": [
    "user_info = {\n",
    "    \"name\":'Deveshri',\n",
    "    \"age\": 31,\n",
    "    \"fav_movie\": ['Dil', 'Fana'],\n",
    "    \"fav_tunes\":['krishna flute']\n",
    "}\n",
    "print(user_info)\n",
    "\n",
    "more_info = {\"State\":\"Maharashtra\",\"hobbies\":[\"Cooking\",\"reading\",\"Listening music\"]}"
   ]
  },
  {
   "cell_type": "code",
   "execution_count": 3,
   "id": "394dd56e-a120-4820-9b1d-b5f126980963",
   "metadata": {},
   "outputs": [
    {
     "name": "stdout",
     "output_type": "stream",
     "text": [
      "{'name': 'Deveshri', 'age': 31, 'fav_movie': ['Dil', 'Fana'], 'fav_tunes': ['krishna flute'], 'State': 'Maharashtra', 'hobbies': ['Cooking', 'reading', 'Listening music']}\n"
     ]
    }
   ],
   "source": [
    "# update\n",
    "user_info.update(more_info)\n",
    "print(user_info)"
   ]
  },
  {
   "cell_type": "code",
   "execution_count": 5,
   "id": "2c8abc51-9c0b-4f24-9cc0-74cab87f817d",
   "metadata": {},
   "outputs": [
    {
     "name": "stdout",
     "output_type": "stream",
     "text": [
      "{'name': 'Deveshri', 'age': 31, 'fav_movie': ['Dil', 'Fana'], 'fav_tunes': ['krishna flute'], 'State': 'Maharashtra', 'hobbies': ['Cooking', 'reading', 'Listening music']}\n",
      "{'name': 'Deveshri Jangale', 'age': 31, 'fav_movie': ['Dil', 'Fana'], 'fav_tunes': ['krishna flute'], 'State': 'Maharashtra', 'hobbies': ['Cooking', 'reading', 'Listening Music']}\n"
     ]
    }
   ],
   "source": [
    "# update also update previous data\n",
    "more_info = {\"name\":\"Deveshri Jangale\",\"State\":\"Maharashtra\",\"hobbies\":[\"Cooking\",\"reading\",\"Listening Music\"]}\n",
    "print(user_info)\n",
    "user_info.update(more_info)\n",
    "print(user_info)"
   ]
  },
  {
   "cell_type": "code",
   "execution_count": null,
   "id": "fddbd5d9-604e-4de0-bbce-04c796616237",
   "metadata": {},
   "outputs": [],
   "source": []
  }
 ],
 "metadata": {
  "kernelspec": {
   "display_name": "Python [conda env:base] *",
   "language": "python",
   "name": "conda-base-py"
  },
  "language_info": {
   "codemirror_mode": {
    "name": "ipython",
    "version": 3
   },
   "file_extension": ".py",
   "mimetype": "text/x-python",
   "name": "python",
   "nbconvert_exporter": "python",
   "pygments_lexer": "ipython3",
   "version": "3.12.7"
  }
 },
 "nbformat": 4,
 "nbformat_minor": 5
}

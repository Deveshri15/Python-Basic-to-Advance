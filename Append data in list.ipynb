{
 "cells": [
  {
   "cell_type": "code",
   "execution_count": 1,
   "id": "d8f4b189-49c4-4d23-93da-db71d5c62aa9",
   "metadata": {},
   "outputs": [
    {
     "name": "stdout",
     "output_type": "stream",
     "text": [
      "['grapes', 'apple', 'Orange']\n"
     ]
    }
   ],
   "source": [
    "# How to add itemns in list\n",
    "# append\n",
    "\n",
    "fruits = [\"grapes\",\"apple\"]\n",
    "fruits.append(\"Orange\")\n",
    "print(fruits)"
   ]
  },
  {
   "cell_type": "code",
   "execution_count": 3,
   "id": "745a6472-ef17-445a-a9e6-dbfea63d77aa",
   "metadata": {},
   "outputs": [
    {
     "name": "stdout",
     "output_type": "stream",
     "text": [
      "['grapes', 'Waternmelon', 'apple', 'Orange']\n"
     ]
    }
   ],
   "source": [
    "# insert\n",
    "fruits.insert(1,\"Waternmelon\") # Adding item at particular index\n",
    "print(fruits)"
   ]
  },
  {
   "cell_type": "code",
   "execution_count": 5,
   "id": "1aa9dff6-234c-4201-bd56-01970f154dff",
   "metadata": {},
   "outputs": [
    {
     "name": "stdout",
     "output_type": "stream",
     "text": [
      "['grapes', 'Waternmelon', 'apple', 'Orange', 'jasmine', 'rose', 'Sunflower']\n"
     ]
    }
   ],
   "source": [
    "# How to join (concatenate) two list\n",
    "flowers = [\"jasmine\",\"rose\",\"Sunflower\"]\n",
    "fruits_flowers = fruits+flowers \n",
    "print(fruits_flowers)"
   ]
  },
  {
   "cell_type": "code",
   "execution_count": 7,
   "id": "1fac51a1-85b1-4930-8b5a-35eba3af640a",
   "metadata": {},
   "outputs": [],
   "source": [
    "# Extend list\n",
    "fruits.extend(['Mango',\"pineapple\"])"
   ]
  },
  {
   "cell_type": "code",
   "execution_count": null,
   "id": "f0e0eef9-b969-4be1-8d75-1c3f34d98c7c",
   "metadata": {},
   "outputs": [],
   "source": []
  }
 ],
 "metadata": {
  "kernelspec": {
   "display_name": "Python [conda env:base] *",
   "language": "python",
   "name": "conda-base-py"
  },
  "language_info": {
   "codemirror_mode": {
    "name": "ipython",
    "version": 3
   },
   "file_extension": ".py",
   "mimetype": "text/x-python",
   "name": "python",
   "nbconvert_exporter": "python",
   "pygments_lexer": "ipython3",
   "version": "3.12.7"
  }
 },
 "nbformat": 4,
 "nbformat_minor": 5
}

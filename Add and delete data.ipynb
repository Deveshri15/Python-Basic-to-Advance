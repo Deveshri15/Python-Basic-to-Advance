{
 "cells": [
  {
   "cell_type": "code",
   "execution_count": 1,
   "id": "d0c66542-bea6-4b7f-8dbf-6391fb550a12",
   "metadata": {},
   "outputs": [
    {
     "name": "stdout",
     "output_type": "stream",
     "text": [
      "{'name': 'Deveshri', 'age': 30, 'fav_movie': ['Dil'], 'fav_tunes': ['Krishna tune']}\n"
     ]
    }
   ],
   "source": [
    "# add and delete data\n",
    "user_info = {\n",
    "    \"name\":'Deveshri',\n",
    "    \"age\": 30,\n",
    "    \"fav_movie\": ['Dil'],\n",
    "    \"fav_tunes\":['Krishna tune']\n",
    "}\n",
    "print(user_info)"
   ]
  },
  {
   "cell_type": "code",
   "execution_count": 3,
   "id": "23fa8686-f6f7-4d0f-9a6b-eb081a08f328",
   "metadata": {},
   "outputs": [
    {
     "name": "stdout",
     "output_type": "stream",
     "text": [
      "{'name': 'Deveshri', 'age': 30, 'fav_movie': ['Dil'], 'fav_tunes': ['Krishna tune'], 'fav_song': ['song1', 'song2']}\n"
     ]
    }
   ],
   "source": [
    "# how to add data\n",
    "user_info[\"fav_song\"]=[\"song1\",\"song2\"]\n",
    "print(user_info)"
   ]
  },
  {
   "cell_type": "code",
   "execution_count": 5,
   "id": "d6cf2e0c-850f-4ed4-9ace-907b6d61c658",
   "metadata": {},
   "outputs": [
    {
     "name": "stdout",
     "output_type": "stream",
     "text": [
      "popped items is ['Krishna tune']\n",
      "{'name': 'Deveshri', 'age': 30, 'fav_movie': ['Dil'], 'fav_song': ['song1', 'song2']}\n"
     ]
    }
   ],
   "source": [
    "# how to delete data\n",
    "popped_items = user_info.pop(\"fav_tunes\")\n",
    "print(f\"popped items is {popped_items}\")\n",
    "print(user_info)"
   ]
  },
  {
   "cell_type": "code",
   "execution_count": 7,
   "id": "09c43eeb-d169-48ac-a53c-233f5d06e70e",
   "metadata": {},
   "outputs": [
    {
     "name": "stdout",
     "output_type": "stream",
     "text": [
      "('fav_song', ['song1', 'song2'])\n",
      "{'name': 'Deveshri', 'age': 30, 'fav_movie': ['Dil']}\n"
     ]
    }
   ],
   "source": [
    "# popitem method\n",
    "popped_item = user_info.popitem()\n",
    "print(popped_item)\n",
    "print(user_info)"
   ]
  },
  {
   "cell_type": "code",
   "execution_count": null,
   "id": "94be231b-da6a-44c5-9540-b7fa06497629",
   "metadata": {},
   "outputs": [],
   "source": []
  }
 ],
 "metadata": {
  "kernelspec": {
   "display_name": "Python [conda env:base] *",
   "language": "python",
   "name": "conda-base-py"
  },
  "language_info": {
   "codemirror_mode": {
    "name": "ipython",
    "version": 3
   },
   "file_extension": ".py",
   "mimetype": "text/x-python",
   "name": "python",
   "nbconvert_exporter": "python",
   "pygments_lexer": "ipython3",
   "version": "3.12.7"
  }
 },
 "nbformat": 4,
 "nbformat_minor": 5
}

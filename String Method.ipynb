{
 "cells": [
  {
   "cell_type": "code",
   "execution_count": 1,
   "id": "c0d99285-cea7-4963-a91d-4a17d075f680",
   "metadata": {},
   "outputs": [],
   "source": [
    "# String Method\n",
    "\n",
    "name = \"Deveshri\""
   ]
  },
  {
   "cell_type": "code",
   "execution_count": 3,
   "id": "75f742b9-f506-4c10-b2d2-df03a8bc6cb6",
   "metadata": {},
   "outputs": [
    {
     "name": "stdout",
     "output_type": "stream",
     "text": [
      "8\n"
     ]
    }
   ],
   "source": [
    "# 1 Len Function\n",
    "print(len(name))"
   ]
  },
  {
   "cell_type": "code",
   "execution_count": 5,
   "id": "36ed2f24-3a85-4b9b-8a59-2416bd18576c",
   "metadata": {},
   "outputs": [
    {
     "name": "stdout",
     "output_type": "stream",
     "text": [
      "DEVESHRI\n"
     ]
    }
   ],
   "source": [
    "#2.Upper Function\n",
    "print(name.upper())"
   ]
  },
  {
   "cell_type": "code",
   "execution_count": 7,
   "id": "1ef4e7a3-4275-4d4a-95c1-36cc53c93a3d",
   "metadata": {},
   "outputs": [
    {
     "name": "stdout",
     "output_type": "stream",
     "text": [
      "deveshri\n"
     ]
    }
   ],
   "source": [
    "#3.Lower Function\n",
    "print(name.lower())"
   ]
  },
  {
   "cell_type": "code",
   "execution_count": 9,
   "id": "795c287b-f8b1-4b4e-8a12-c639e1eddb05",
   "metadata": {},
   "outputs": [
    {
     "name": "stdout",
     "output_type": "stream",
     "text": [
      "Deveshri\n"
     ]
    }
   ],
   "source": [
    "#4.Title Method\n",
    "print(name.title())"
   ]
  },
  {
   "cell_type": "code",
   "execution_count": 11,
   "id": "0cedbc68-ce0e-43ca-ad33-e9e8b70a4da0",
   "metadata": {},
   "outputs": [
    {
     "name": "stdout",
     "output_type": "stream",
     "text": [
      "2\n"
     ]
    }
   ],
   "source": [
    "#5.Count Method\n",
    "print(name.count('e'))"
   ]
  },
  {
   "cell_type": "code",
   "execution_count": 13,
   "id": "6fbede15-9e23-4210-942b-31d51cb56d17",
   "metadata": {},
   "outputs": [
    {
     "name": "stdout",
     "output_type": "stream",
     "text": [
      "        Deveshri        ..................\n"
     ]
    }
   ],
   "source": [
    "#6.Space remove\n",
    "name = \"        Deveshri        \"\n",
    "dots = \"..................\"\n",
    "print(name+dots)"
   ]
  },
  {
   "cell_type": "code",
   "execution_count": 15,
   "id": "0ea51447-b19d-480b-8a7c-33acdf40fd73",
   "metadata": {},
   "outputs": [
    {
     "name": "stdout",
     "output_type": "stream",
     "text": [
      "Deveshri        ..................\n"
     ]
    }
   ],
   "source": [
    "# Remove space from left side\n",
    "print(name.lstrip()+dots)"
   ]
  },
  {
   "cell_type": "code",
   "execution_count": 17,
   "id": "d426c716-594f-4ac5-9224-3cd7677e482e",
   "metadata": {},
   "outputs": [
    {
     "name": "stdout",
     "output_type": "stream",
     "text": [
      "        Deveshri..................\n"
     ]
    }
   ],
   "source": [
    "# Remove space from right side\n",
    "print(name.rstrip()+dots)"
   ]
  },
  {
   "cell_type": "code",
   "execution_count": 19,
   "id": "271ad7ab-4150-49ab-9c3d-f37126a0a411",
   "metadata": {},
   "outputs": [
    {
     "name": "stdout",
     "output_type": "stream",
     "text": [
      "4\n"
     ]
    }
   ],
   "source": [
    "# find Method\n",
    "string = \"She is honest and she is good singer\"\n",
    "print(string.find(\"is\"))"
   ]
  },
  {
   "cell_type": "code",
   "execution_count": null,
   "id": "14bd0f71-08a2-45bd-ae6b-87f31ae29508",
   "metadata": {},
   "outputs": [],
   "source": []
  }
 ],
 "metadata": {
  "kernelspec": {
   "display_name": "Python [conda env:base] *",
   "language": "python",
   "name": "conda-base-py"
  },
  "language_info": {
   "codemirror_mode": {
    "name": "ipython",
    "version": 3
   },
   "file_extension": ".py",
   "mimetype": "text/x-python",
   "name": "python",
   "nbconvert_exporter": "python",
   "pygments_lexer": "ipython3",
   "version": "3.12.7"
  }
 },
 "nbformat": 4,
 "nbformat_minor": 5
}

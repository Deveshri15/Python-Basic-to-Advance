{
 "cells": [
  {
   "cell_type": "code",
   "execution_count": null,
   "id": "d974052e-50b9-4adc-9afb-1957caa94b1a",
   "metadata": {},
   "outputs": [],
   "source": [
    "An escape sequence is a sequence of characters that, when used inside a character or string, \n",
    "does not represent itself but is converted into another character or series of characters that may be difficult or\n",
    "impossible to express directly, like newline (\\n), tab (\\t), and so on.\n"
   ]
  },
  {
   "cell_type": "code",
   "execution_count": 17,
   "id": "c264874e-205b-46a2-800b-fadb2677dabc",
   "metadata": {},
   "outputs": [],
   "source": [
    "## \\n (Newline)"
   ]
  },
  {
   "cell_type": "code",
   "execution_count": 3,
   "id": "4ec086e6-f730-4693-8f26-4756f31371c5",
   "metadata": {},
   "outputs": [
    {
     "name": "stdout",
     "output_type": "stream",
     "text": [
      "Hello, World!\n",
      "Welcome to Python.\n"
     ]
    }
   ],
   "source": [
    "print(\"Hello, World!\\nWelcome to Python.\")"
   ]
  },
  {
   "cell_type": "code",
   "execution_count": 13,
   "id": "4a26735c-ea2c-4e58-8870-981ffd70c684",
   "metadata": {},
   "outputs": [],
   "source": [
    "## \\t (Tab)"
   ]
  },
  {
   "cell_type": "code",
   "execution_count": 19,
   "id": "cb0504c8-5eda-4fdf-980c-661aa503b0ea",
   "metadata": {},
   "outputs": [
    {
     "name": "stdout",
     "output_type": "stream",
     "text": [
      "Name\tAge\tLocation\n"
     ]
    }
   ],
   "source": [
    "print(\"Name\\tAge\\tLocation\")"
   ]
  },
  {
   "cell_type": "code",
   "execution_count": 21,
   "id": "b656669f-e160-448d-9fed-d5d0a0629fb2",
   "metadata": {},
   "outputs": [],
   "source": [
    "## \\\\ (Backslash)"
   ]
  },
  {
   "cell_type": "code",
   "execution_count": 23,
   "id": "63344bfe-3cb0-47eb-bc99-82ced7d582da",
   "metadata": {},
   "outputs": [
    {
     "name": "stdout",
     "output_type": "stream",
     "text": [
      "This is a backslash: \\\n"
     ]
    }
   ],
   "source": [
    "print(\"This is a backslash: \\\\\")"
   ]
  },
  {
   "cell_type": "code",
   "execution_count": 25,
   "id": "d4623680-8863-4648-9e1e-a4e374d476d8",
   "metadata": {},
   "outputs": [],
   "source": [
    "## \\' (Single Quote)"
   ]
  },
  {
   "cell_type": "code",
   "execution_count": 27,
   "id": "1e7a1ff1-eaea-46d1-97de-081e7e780b03",
   "metadata": {},
   "outputs": [
    {
     "name": "stdout",
     "output_type": "stream",
     "text": [
      "It's a wonderful day!\n"
     ]
    }
   ],
   "source": [
    "print('It\\'s a wonderful day!')"
   ]
  },
  {
   "cell_type": "code",
   "execution_count": 29,
   "id": "e7a9779f-6e63-4b76-a71b-acde2557f68d",
   "metadata": {},
   "outputs": [],
   "source": [
    "## \\\" (Double Quote)"
   ]
  },
  {
   "cell_type": "code",
   "execution_count": 31,
   "id": "14b4a077-613f-4d1b-8f56-910aaf3fb1ed",
   "metadata": {},
   "outputs": [
    {
     "name": "stdout",
     "output_type": "stream",
     "text": [
      "He said, \"How are you!\"\n"
     ]
    }
   ],
   "source": [
    "print(\"He said, \\\"How are you!\\\"\")"
   ]
  },
  {
   "cell_type": "code",
   "execution_count": 33,
   "id": "87151956-c0a8-4899-a376-56138492470f",
   "metadata": {},
   "outputs": [],
   "source": [
    "## \\r (Carriage Return)"
   ]
  },
  {
   "cell_type": "code",
   "execution_count": 35,
   "id": "aa358384-904b-4ff1-93f4-113b990f8881",
   "metadata": {},
   "outputs": [
    {
     "name": "stdout",
     "output_type": "stream",
     "text": [
      "Hillo, World!\n"
     ]
    }
   ],
   "source": [
    "print(\"Hello, World!\\rHi\")"
   ]
  },
  {
   "cell_type": "code",
   "execution_count": 37,
   "id": "24c0c722-015e-48b7-8123-2fe3fafa42f9",
   "metadata": {},
   "outputs": [],
   "source": [
    "## \\b (Backspace)"
   ]
  },
  {
   "cell_type": "code",
   "execution_count": 39,
   "id": "4f5d56fb-4b64-4fa2-8125-5035c5bb762d",
   "metadata": {},
   "outputs": [
    {
     "name": "stdout",
     "output_type": "stream",
     "text": [
      "Hello, World\n"
     ]
    }
   ],
   "source": [
    "print(\"Hello, World!\\b\")"
   ]
  },
  {
   "cell_type": "code",
   "execution_count": 41,
   "id": "b97530d4-a03e-4867-a601-b28319c8ff5e",
   "metadata": {},
   "outputs": [],
   "source": [
    "## \\f (Form Feed)"
   ]
  },
  {
   "cell_type": "code",
   "execution_count": 43,
   "id": "b02963d6-81c0-44e5-abd8-44603a11a611",
   "metadata": {},
   "outputs": [
    {
     "name": "stdout",
     "output_type": "stream",
     "text": [
      "Hello\f",
      "World!\n"
     ]
    }
   ],
   "source": [
    "print(\"Hello\\fWorld!\")"
   ]
  },
  {
   "cell_type": "code",
   "execution_count": 45,
   "id": "b7e9d1d6-d72d-454c-9f40-9c3d8f93aea1",
   "metadata": {},
   "outputs": [],
   "source": [
    "## \\v (Vertical Tab)"
   ]
  },
  {
   "cell_type": "code",
   "execution_count": 47,
   "id": "0d1fd815-165b-4685-a0b3-52b8e165fcb9",
   "metadata": {},
   "outputs": [
    {
     "name": "stdout",
     "output_type": "stream",
     "text": [
      "Hello\u000b",
      "World!\n"
     ]
    }
   ],
   "source": [
    "print(\"Hello\\vWorld!\")"
   ]
  },
  {
   "cell_type": "code",
   "execution_count": 49,
   "id": "118c540a-1385-4b93-b8cb-87709a1ce381",
   "metadata": {},
   "outputs": [],
   "source": [
    "##\\xhh (Hexadecimal)"
   ]
  },
  {
   "cell_type": "code",
   "execution_count": 51,
   "id": "9c1b0384-eeaf-4186-8e34-66da71ff698c",
   "metadata": {},
   "outputs": [
    {
     "name": "stdout",
     "output_type": "stream",
     "text": [
      "Hello Hello\n"
     ]
    }
   ],
   "source": [
    "# Define a string with hexadecimal escape sequences\n",
    "print(\"Hello \\x48\\x65\\x6C\\x6C\\x6F\")"
   ]
  },
  {
   "cell_type": "code",
   "execution_count": null,
   "id": "0731fea3-9b14-4b84-8409-59a5e37646fc",
   "metadata": {},
   "outputs": [],
   "source": []
  }
 ],
 "metadata": {
  "kernelspec": {
   "display_name": "Python [conda env:base] *",
   "language": "python",
   "name": "conda-base-py"
  },
  "language_info": {
   "codemirror_mode": {
    "name": "ipython",
    "version": 3
   },
   "file_extension": ".py",
   "mimetype": "text/x-python",
   "name": "python",
   "nbconvert_exporter": "python",
   "pygments_lexer": "ipython3",
   "version": "3.12.7"
  }
 },
 "nbformat": 4,
 "nbformat_minor": 5
}

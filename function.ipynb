{
 "cells": [
  {
   "cell_type": "code",
   "execution_count": 1,
   "id": "f3f30c60-b90c-4b86-ab1b-4314f49cbbdb",
   "metadata": {},
   "outputs": [],
   "source": [
    "# functions\n",
    "\n",
    "def add_two_number(num1,num2):\n",
    "    return (num1+num2)"
   ]
  },
  {
   "cell_type": "code",
   "execution_count": 5,
   "id": "70444557-d1ad-4461-9409-5f0470002a69",
   "metadata": {},
   "outputs": [
    {
     "name": "stdin",
     "output_type": "stream",
     "text": [
      "Enter Number 1:  20\n",
      "Enter Number 1:  30\n"
     ]
    },
    {
     "name": "stdout",
     "output_type": "stream",
     "text": [
      "50\n"
     ]
    }
   ],
   "source": [
    "# Use add function for intger\n",
    "a = int(input('Enter Number 1: '))\n",
    "b = int(input('Enter Number 1: '))\n",
    "print(add_two_number(a,b))"
   ]
  },
  {
   "cell_type": "code",
   "execution_count": 7,
   "id": "03855b44-0c59-4484-a975-b3ad6e11f621",
   "metadata": {},
   "outputs": [
    {
     "name": "stdin",
     "output_type": "stream",
     "text": [
      "Enter first name:  deveshri\n",
      "Enter Last name :  warke\n"
     ]
    },
    {
     "name": "stdout",
     "output_type": "stream",
     "text": [
      "deveshriwarke\n"
     ]
    }
   ],
   "source": [
    "# Use add function for string\n",
    "a = input('Enter first name: ')\n",
    "b = input('Enter Last name : ')\n",
    "print(add_two_number(a,b))"
   ]
  }
 ],
 "metadata": {
  "kernelspec": {
   "display_name": "Python [conda env:base] *",
   "language": "python",
   "name": "conda-base-py"
  },
  "language_info": {
   "codemirror_mode": {
    "name": "ipython",
    "version": 3
   },
   "file_extension": ".py",
   "mimetype": "text/x-python",
   "name": "python",
   "nbconvert_exporter": "python",
   "pygments_lexer": "ipython3",
   "version": "3.12.7"
  }
 },
 "nbformat": 4,
 "nbformat_minor": 5
}

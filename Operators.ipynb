{
 "cells": [
  {
   "cell_type": "code",
   "execution_count": 3,
   "id": "80477bdd-d2b9-44e6-9978-e6571c5a3a0e",
   "metadata": {},
   "outputs": [
    {
     "name": "stdout",
     "output_type": "stream",
     "text": [
      "Deveshri Jangale\n"
     ]
    }
   ],
   "source": [
    "f_name= \"Deveshri\"\n",
    "l_name = \" Jangale\"\n",
    "f_name+=l_name\n",
    "print(f_name)"
   ]
  },
  {
   "cell_type": "code",
   "execution_count": 5,
   "id": "bb763b80-a566-49c8-b976-3b2f65cfaa34",
   "metadata": {},
   "outputs": [
    {
     "name": "stdout",
     "output_type": "stream",
     "text": [
      "31\n",
      "62\n"
     ]
    }
   ],
   "source": [
    "age= 30\n",
    "age+=1\n",
    "print(age)\n",
    "\n",
    "print(age*2)"
   ]
  },
  {
   "cell_type": "code",
   "execution_count": null,
   "id": "4e20302b-6a75-4085-8361-e1aa3c6b4218",
   "metadata": {},
   "outputs": [],
   "source": []
  }
 ],
 "metadata": {
  "kernelspec": {
   "display_name": "Python [conda env:base] *",
   "language": "python",
   "name": "conda-base-py"
  },
  "language_info": {
   "codemirror_mode": {
    "name": "ipython",
    "version": 3
   },
   "file_extension": ".py",
   "mimetype": "text/x-python",
   "name": "python",
   "nbconvert_exporter": "python",
   "pygments_lexer": "ipython3",
   "version": "3.12.7"
  }
 },
 "nbformat": 4,
 "nbformat_minor": 5
}

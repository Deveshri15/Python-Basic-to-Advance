{
 "cells": [
  {
   "cell_type": "code",
   "execution_count": 1,
   "id": "122888d2-9d4a-4a1c-9591-3a7da4b0d034",
   "metadata": {},
   "outputs": [
    {
     "name": "stdout",
     "output_type": "stream",
     "text": [
      "Your name is Deveshri\n"
     ]
    }
   ],
   "source": [
    "# if Statement\n",
    "\n",
    "name = \"Deveshri\"\n",
    "if name==\"Deveshri\":\n",
    "    print(\"Your name is Deveshri\")\n",
    "else:\n",
    "    print(\"You are not Deveshri\")"
   ]
  },
  {
   "cell_type": "code",
   "execution_count": 3,
   "id": "4cdbe3b4-9143-40a3-8bc0-d64ec92aafd4",
   "metadata": {},
   "outputs": [
    {
     "name": "stdout",
     "output_type": "stream",
     "text": [
      "Your name is Renuka\n"
     ]
    }
   ],
   "source": [
    "# OR\n",
    "    \n",
    "name = \"Renuka\"\n",
    "if name==\"Renuka\" or name==\"Renuka\":\n",
    "    print(\"Your name is Renuka\")\n",
    "else:\n",
    "    print(\"You are not Renuka\")"
   ]
  },
  {
   "cell_type": "code",
   "execution_count": 5,
   "id": "dea2e2f2-14d7-430e-83d8-65871ab49bf8",
   "metadata": {},
   "outputs": [
    {
     "name": "stdout",
     "output_type": "stream",
     "text": [
      "Your name is Renuka\n"
     ]
    }
   ],
   "source": [
    "# And\n",
    "    \n",
    "name = \"Renuka\"\n",
    "if name==\"Renuka\" and name==\"Renuka\":\n",
    "    print(\"Your name is Renuka\")\n",
    "else:\n",
    "    print(\"You are not Renuka\")"
   ]
  },
  {
   "cell_type": "code",
   "execution_count": 7,
   "id": "63ca9fb3-ab89-41e7-a743-1f45c7c9559f",
   "metadata": {},
   "outputs": [
    {
     "name": "stdout",
     "output_type": "stream",
     "text": [
      "Hello india! 0\n",
      "Hello india! 1\n",
      "Hello india! 2\n",
      "Hello india! 3\n",
      "Hello india! 4\n",
      "Hello india! 5\n",
      "Hello india! 6\n",
      "Hello india! 7\n",
      "Hello india! 8\n",
      "Hello india! 9\n",
      "Hello india! 10\n"
     ]
    }
   ],
   "source": [
    "# WHile\n",
    "    \n",
    "i=0\n",
    "while i<=10:\n",
    "    print(f\"Hello india! {i}\")\n",
    "    i+=1"
   ]
  },
  {
   "cell_type": "code",
   "execution_count": 9,
   "id": "4f93eaec-7509-4a52-a316-4ae2559e0c0c",
   "metadata": {},
   "outputs": [
    {
     "name": "stdout",
     "output_type": "stream",
     "text": [
      "1\n",
      "2\n",
      "3\n",
      "4\n",
      "5\n",
      "6\n",
      "7\n",
      "8\n"
     ]
    }
   ],
   "source": [
    "# for loop\n",
    "\n",
    "for i in range(1,9):\n",
    "    print(i)"
   ]
  },
  {
   "cell_type": "code",
   "execution_count": 11,
   "id": "89aa1ebb-079a-442f-a2b1-49c982cea5a7",
   "metadata": {},
   "outputs": [
    {
     "name": "stdout",
     "output_type": "stream",
     "text": [
      "0\n",
      "1\n",
      "2\n",
      "3\n",
      "4\n"
     ]
    }
   ],
   "source": [
    "# for with break\n",
    "for i in range(0,11):\n",
    "    if i==5:\n",
    "        break\n",
    "    print(i)"
   ]
  },
  {
   "cell_type": "code",
   "execution_count": 13,
   "id": "66c21bbe-f0e9-4447-a663-f9ec956d5ee5",
   "metadata": {},
   "outputs": [
    {
     "name": "stdout",
     "output_type": "stream",
     "text": [
      "1\n",
      "2\n",
      "3\n",
      "4\n",
      "6\n",
      "7\n",
      "8\n",
      "9\n",
      "10\n"
     ]
    }
   ],
   "source": [
    "# for with continue\n",
    "for i in range(1,11):\n",
    "    if i==5:\n",
    "        continue\n",
    "    print(i)"
   ]
  },
  {
   "cell_type": "code",
   "execution_count": 15,
   "id": "430631aa-7e88-44e6-9a00-5009f789ae2d",
   "metadata": {},
   "outputs": [
    {
     "name": "stdout",
     "output_type": "stream",
     "text": [
      "D\n",
      "e\n",
      "v\n",
      "e\n",
      "s\n",
      "h\n",
      "r\n",
      "i\n"
     ]
    }
   ],
   "source": [
    "# loop with string\n",
    "\n",
    "for i in \"Deveshri\":\n",
    "    print(i)"
   ]
  },
  {
   "cell_type": "code",
   "execution_count": 17,
   "id": "9280111a-08f7-4649-b4d5-11289c0503f5",
   "metadata": {},
   "outputs": [
    {
     "name": "stdout",
     "output_type": "stream",
     "text": [
      "1\n",
      "3\n",
      "5\n",
      "7\n"
     ]
    }
   ],
   "source": [
    "# range function with step\n",
    "\n",
    "for i in range(1,8,2):\n",
    "    print(i)"
   ]
  },
  {
   "cell_type": "code",
   "execution_count": null,
   "id": "e51cf77a-5af1-4f70-8998-0ca8b897239c",
   "metadata": {},
   "outputs": [],
   "source": []
  }
 ],
 "metadata": {
  "kernelspec": {
   "display_name": "Python [conda env:base] *",
   "language": "python",
   "name": "conda-base-py"
  },
  "language_info": {
   "codemirror_mode": {
    "name": "ipython",
    "version": 3
   },
   "file_extension": ".py",
   "mimetype": "text/x-python",
   "name": "python",
   "nbconvert_exporter": "python",
   "pygments_lexer": "ipython3",
   "version": "3.12.7"
  }
 },
 "nbformat": 4,
 "nbformat_minor": 5
}

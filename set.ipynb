{
 "cells": [
  {
   "cell_type": "code",
   "execution_count": 1,
   "id": "c9cdadf6-a5ef-46f7-81b5-ef78d6c86543",
   "metadata": {},
   "outputs": [],
   "source": [
    "# Set datatypes\n",
    "# Unordered collection of unique items"
   ]
  },
  {
   "cell_type": "code",
   "execution_count": 3,
   "id": "9ed7eac4-9fcd-4e9a-a43a-b7c59173e987",
   "metadata": {},
   "outputs": [
    {
     "name": "stdout",
     "output_type": "stream",
     "text": [
      "{1, 2, 3, 4, 5}\n"
     ]
    }
   ],
   "source": [
    "a = {1,2,3,4,5}\n",
    "print(a)"
   ]
  },
  {
   "cell_type": "code",
   "execution_count": 5,
   "id": "a43522c9-db7e-48ad-bc59-90c10d05785b",
   "metadata": {},
   "outputs": [
    {
     "name": "stdout",
     "output_type": "stream",
     "text": [
      "{1, 2, 3}\n"
     ]
    }
   ],
   "source": [
    "a1 = {1,2,3,2}\n",
    "print(a1)   # Not repeate 2"
   ]
  },
  {
   "cell_type": "code",
   "execution_count": 7,
   "id": "2ef4b9f1-add7-419e-accf-16e248d0a013",
   "metadata": {},
   "outputs": [
    {
     "name": "stdout",
     "output_type": "stream",
     "text": [
      "[5, 2, 1, 1, 3, 4, 5, 10, 1, 5, 6, 8, 7, 3, 2, 1, 9, 7, 3, 1, 9, 1, 4, 2, 4]\n",
      "[1, 2, 3, 4, 5, 6, 7, 8, 9, 10]\n"
     ]
    }
   ],
   "source": [
    "# Remove duplicates from list\n",
    "l = [5, 2, 1, 1, 3, 4, 5, 10, 1, 5, 6, 8, 7, 3, 2, 1, 9, 7, 3, 1, 9, 1, 4, 2, 4]\n",
    "print(l)\n",
    "\n",
    "set1 = set(l)\n",
    "l = list(set1)\n",
    "print(l)"
   ]
  },
  {
   "cell_type": "code",
   "execution_count": 9,
   "id": "8991929e-4082-4e26-9bda-5a8bf6a4d64a",
   "metadata": {},
   "outputs": [
    {
     "name": "stdout",
     "output_type": "stream",
     "text": [
      "{1, 2, 3, 4}\n"
     ]
    }
   ],
   "source": [
    "s = {1,2,3}\n",
    "s.add(4)\n",
    "print(s)"
   ]
  },
  {
   "cell_type": "code",
   "execution_count": 11,
   "id": "bb744e00-b4fe-49d4-aaec-69a44ea5eb2a",
   "metadata": {},
   "outputs": [
    {
     "name": "stdout",
     "output_type": "stream",
     "text": [
      "{1, 2, 4}\n",
      "{1, 2, 4}\n"
     ]
    }
   ],
   "source": [
    "s.remove(3)  # if something not present in set want to remove gives error so go to discard\n",
    "print(s)\n",
    "\n",
    "print(s)"
   ]
  },
  {
   "cell_type": "code",
   "execution_count": 13,
   "id": "1f2ed36f-3ca6-4162-be46-55444f849918",
   "metadata": {},
   "outputs": [
    {
     "name": "stdout",
     "output_type": "stream",
     "text": [
      "{1, 2, 4}\n"
     ]
    }
   ],
   "source": [
    "s.discard(5)\n",
    "print(s)"
   ]
  },
  {
   "cell_type": "code",
   "execution_count": 15,
   "id": "6efdc37d-2eb4-44fc-8121-360270d9f993",
   "metadata": {},
   "outputs": [
    {
     "name": "stdout",
     "output_type": "stream",
     "text": [
      "set()\n"
     ]
    }
   ],
   "source": [
    "s.clear() # to clear sets\n",
    "print(s)"
   ]
  },
  {
   "cell_type": "code",
   "execution_count": 17,
   "id": "9cf3dd03-4694-4460-ab64-b85b300a3642",
   "metadata": {},
   "outputs": [
    {
     "name": "stdout",
     "output_type": "stream",
     "text": [
      "{1, 2, 3, 4, 5, 6, 7, 8, 9}\n"
     ]
    }
   ],
   "source": [
    "# Copy\n",
    "s = {1,2,3,4,5,6,7,8,9}\n",
    "s1 = s.copy() \n",
    "print(s1)"
   ]
  },
  {
   "cell_type": "code",
   "execution_count": 19,
   "id": "0a0d8758-7fc6-4b30-abf0-61b4b2f42442",
   "metadata": {},
   "outputs": [
    {
     "name": "stdout",
     "output_type": "stream",
     "text": [
      "{8.5, 1, 'string', 22.6}\n"
     ]
    }
   ],
   "source": [
    "# What can store in sets?\n",
    "# int, float, str,bool  but not list, dict\n",
    "# But 1 and True can't be at a time in sets or vice versa 0 and False can't be at a time in sets\n",
    "s = {1,22.6,8.5,True,\"string\"}\n",
    "print(s)"
   ]
  },
  {
   "cell_type": "code",
   "execution_count": 21,
   "id": "0bc728e2-dd73-44b4-a7df-cf8ec13817f5",
   "metadata": {},
   "outputs": [
    {
     "name": "stdout",
     "output_type": "stream",
     "text": [
      "{0, 12.5, 5}\n"
     ]
    }
   ],
   "source": [
    "p = {0,False,12.5,5}\n",
    "print(p)"
   ]
  },
  {
   "cell_type": "code",
   "execution_count": null,
   "id": "ff30ec32-d17f-4028-857f-f8cff1ca5817",
   "metadata": {},
   "outputs": [],
   "source": []
  }
 ],
 "metadata": {
  "kernelspec": {
   "display_name": "Python [conda env:base] *",
   "language": "python",
   "name": "conda-base-py"
  },
  "language_info": {
   "codemirror_mode": {
    "name": "ipython",
    "version": 3
   },
   "file_extension": ".py",
   "mimetype": "text/x-python",
   "name": "python",
   "nbconvert_exporter": "python",
   "pygments_lexer": "ipython3",
   "version": "3.12.7"
  }
 },
 "nbformat": 4,
 "nbformat_minor": 5
}

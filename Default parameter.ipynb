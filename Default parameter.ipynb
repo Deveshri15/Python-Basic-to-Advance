{
 "cells": [
  {
   "cell_type": "code",
   "execution_count": 1,
   "id": "24ec4ef4-7c40-432f-825b-960c21e12c30",
   "metadata": {},
   "outputs": [
    {
     "name": "stdout",
     "output_type": "stream",
     "text": [
      "Your first name is Deveshri\n",
      "Your last name is Jangale\n",
      "Your age is 30\n"
     ]
    }
   ],
   "source": [
    "# Default parameter\n",
    "\n",
    "def user_info(first_name,last_name,age):\n",
    "    print(f\"Your first name is {first_name}\")\n",
    "    print(f\"Your last name is {last_name}\")\n",
    "    print(f\"Your age is {age}\")\n",
    "\n",
    "user_info(\"Deveshri\",\"Jangale\",30)"
   ]
  },
  {
   "cell_type": "code",
   "execution_count": 5,
   "id": "fb7f5697-aa7b-4b06-ad08-a61cc77a5d16",
   "metadata": {},
   "outputs": [
    {
     "name": "stdout",
     "output_type": "stream",
     "text": [
      "Your first name is Ramesh\n",
      "Your last name is Janagle\n",
      "Your age is 65\n",
      "Your first name is Ramesh\n",
      "Your last name is Jangale\n",
      "Your age is 65\n"
     ]
    }
   ],
   "source": [
    "# By using Default parameter\n",
    "\n",
    "def user_info(first_name,last_name,age=65):\n",
    "    print(f\"Your first name is {first_name}\")\n",
    "    print(f\"Your last name is {last_name}\")\n",
    "    print(f\"Your age is {age}\")\n",
    "\n",
    "user_info(\"Ramesh\",\"Janagle\")\n",
    "\n",
    "user_info(\"Ramesh\",\"Jangale\",65)"
   ]
  }
 ],
 "metadata": {
  "kernelspec": {
   "display_name": "Python [conda env:base] *",
   "language": "python",
   "name": "conda-base-py"
  },
  "language_info": {
   "codemirror_mode": {
    "name": "ipython",
    "version": 3
   },
   "file_extension": ".py",
   "mimetype": "text/x-python",
   "name": "python",
   "nbconvert_exporter": "python",
   "pygments_lexer": "ipython3",
   "version": "3.12.7"
  }
 },
 "nbformat": 4,
 "nbformat_minor": 5
}

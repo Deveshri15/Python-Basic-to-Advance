{
 "cells": [
  {
   "cell_type": "code",
   "execution_count": 1,
   "id": "3a8c3995-4f78-4ffa-a23c-4557c53e6e2b",
   "metadata": {},
   "outputs": [
    {
     "name": "stdout",
     "output_type": "stream",
     "text": [
      "0 1 1 2 3 5 8 13 21 34 55 89 144 233 377 None\n"
     ]
    }
   ],
   "source": [
    "# fibonacci series\n",
    "# 0,1,1,2,3,5,8,13,21,34\n",
    "\n",
    "def fibonacci_series(n):\n",
    "    a = 0 # first number\n",
    "    b = 1 # second number\n",
    "    if n==1:\n",
    "        print(a)\n",
    "    elif n==2:\n",
    "        print (a, b)\n",
    "    else:\n",
    "        print(a, b, end =\" \")\n",
    "        for i in range(n-2):\n",
    "            c = a+b\n",
    "            a = b\n",
    "            b = c\n",
    "            print(b, end=\" \")\n",
    "\n",
    "print(fibonacci_series(15))"
   ]
  }
 ],
 "metadata": {
  "kernelspec": {
   "display_name": "Python [conda env:base] *",
   "language": "python",
   "name": "conda-base-py"
  },
  "language_info": {
   "codemirror_mode": {
    "name": "ipython",
    "version": 3
   },
   "file_extension": ".py",
   "mimetype": "text/x-python",
   "name": "python",
   "nbconvert_exporter": "python",
   "pygments_lexer": "ipython3",
   "version": "3.12.7"
  }
 },
 "nbformat": 4,
 "nbformat_minor": 5
}

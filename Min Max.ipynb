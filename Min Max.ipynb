{
 "cells": [
  {
   "cell_type": "code",
   "execution_count": 1,
   "id": "2e727860-e37e-49ce-bbaa-2d7f4db820f5",
   "metadata": {},
   "outputs": [
    {
     "name": "stdout",
     "output_type": "stream",
     "text": [
      "2\n",
      "50\n"
     ]
    }
   ],
   "source": [
    "numbers = [5,50,10,2]\n",
    "print(min(numbers))\n",
    "print(max(numbers))"
   ]
  },
  {
   "cell_type": "code",
   "execution_count": 3,
   "id": "750780a8-d423-404d-95c0-e20c9a5c0df8",
   "metadata": {},
   "outputs": [
    {
     "name": "stdout",
     "output_type": "stream",
     "text": [
      "48\n"
     ]
    }
   ],
   "source": [
    "# Create a function which gives difference between minimum and maximum number in list\n",
    "\n",
    "def min_max_diff(ls):\n",
    "    diff = max(ls) - min(ls)\n",
    "    return diff\n",
    "\n",
    "print(min_max_diff(numbers))"
   ]
  }
 ],
 "metadata": {
  "kernelspec": {
   "display_name": "Python [conda env:base] *",
   "language": "python",
   "name": "conda-base-py"
  },
  "language_info": {
   "codemirror_mode": {
    "name": "ipython",
    "version": 3
   },
   "file_extension": ".py",
   "mimetype": "text/x-python",
   "name": "python",
   "nbconvert_exporter": "python",
   "pygments_lexer": "ipython3",
   "version": "3.12.7"
  }
 },
 "nbformat": 4,
 "nbformat_minor": 5
}

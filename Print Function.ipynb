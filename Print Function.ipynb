{
 "cells": [
  {
   "cell_type": "code",
   "execution_count": 1,
   "id": "3fd8847a-ef59-40be-94da-ebcb067bcd2e",
   "metadata": {},
   "outputs": [
    {
     "name": "stdout",
     "output_type": "stream",
     "text": [
      "😄\n",
      "😈\n",
      "😒\n"
     ]
    }
   ],
   "source": [
    "#print Emoji\n",
    "# https://unicode.org/emoji/charts/full-emoji-list.html\n",
    "print(\"\\U0001F604\")\n",
    "print(\"\\U0001F608\")\n",
    "print(\"\\U0001F612\")"
   ]
  },
  {
   "cell_type": "code",
   "execution_count": 3,
   "id": "133c09cd-9d99-4cf8-9a6f-88b526fb149d",
   "metadata": {},
   "outputs": [
    {
     "name": "stdout",
     "output_type": "stream",
     "text": [
      "Hello India!\n"
     ]
    }
   ],
   "source": [
    "print(\"Hello India!\")"
   ]
  },
  {
   "cell_type": "code",
   "execution_count": null,
   "id": "e43a005f-47e2-4284-836a-21768885c77c",
   "metadata": {},
   "outputs": [],
   "source": []
  }
 ],
 "metadata": {
  "kernelspec": {
   "display_name": "Python [conda env:base] *",
   "language": "python",
   "name": "conda-base-py"
  },
  "language_info": {
   "codemirror_mode": {
    "name": "ipython",
    "version": 3
   },
   "file_extension": ".py",
   "mimetype": "text/x-python",
   "name": "python",
   "nbconvert_exporter": "python",
   "pygments_lexer": "ipython3",
   "version": "3.12.7"
  }
 },
 "nbformat": 4,
 "nbformat_minor": 5
}

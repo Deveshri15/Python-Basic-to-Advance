{
 "cells": [
  {
   "cell_type": "code",
   "execution_count": 1,
   "id": "f01b8121-b2a7-4d0e-976d-ba3fef1b696d",
   "metadata": {},
   "outputs": [],
   "source": [
    "fruits = [\"orange\",\"apple\",\"pear\",\"banana\",\"kiwi\",\"apple\",\"banana\"]"
   ]
  },
  {
   "cell_type": "code",
   "execution_count": 3,
   "id": "8ec0c176-b23a-4d07-8a23-9f335d4162bb",
   "metadata": {},
   "outputs": [
    {
     "name": "stdout",
     "output_type": "stream",
     "text": [
      "orange\n",
      "apple\n",
      "pear\n",
      "banana\n",
      "kiwi\n",
      "apple\n",
      "banana\n"
     ]
    }
   ],
   "source": [
    "# for loop\n",
    "\n",
    "for fruit in fruits:\n",
    "    print(fruit)"
   ]
  },
  {
   "cell_type": "code",
   "execution_count": 5,
   "id": "c4a643ac-1af2-4453-bb6e-f94c76663ca3",
   "metadata": {},
   "outputs": [
    {
     "name": "stdout",
     "output_type": "stream",
     "text": [
      "orange\n",
      "apple\n",
      "pear\n",
      "banana\n",
      "kiwi\n",
      "apple\n",
      "banana\n"
     ]
    }
   ],
   "source": [
    "# While loop\n",
    "i = 0\n",
    "while i in range(len(fruits)):\n",
    "    print(fruits[i])\n",
    "    i+=1"
   ]
  },
  {
   "cell_type": "code",
   "execution_count": 7,
   "id": "5762a731-5967-49a2-8f5c-358551104476",
   "metadata": {},
   "outputs": [
    {
     "name": "stdout",
     "output_type": "stream",
     "text": [
      "[[1, 2, 3], [4, 5, 6], [7, 8, 9]]\n",
      "3\n",
      "[1, 2, 3]\n"
     ]
    }
   ],
   "source": [
    "# list inside list\n",
    "\n",
    "matrix = [[1,2,3],[4,5,6],[7,8,9]]\n",
    "print(matrix)\n",
    "print(len(matrix))\n",
    "\n",
    "print(matrix[0])"
   ]
  },
  {
   "cell_type": "code",
   "execution_count": 9,
   "id": "81235df5-2272-4bf8-853a-bf97c9a17e54",
   "metadata": {},
   "outputs": [
    {
     "name": "stdout",
     "output_type": "stream",
     "text": [
      "1\n",
      "2\n",
      "3\n",
      "4\n",
      "5\n",
      "6\n",
      "7\n",
      "8\n",
      "9\n"
     ]
    }
   ],
   "source": [
    "# for loop inside for loop\n",
    "\n",
    "for sublist in matrix:\n",
    "    for i in sublist:\n",
    "        print(i)"
   ]
  },
  {
   "cell_type": "code",
   "execution_count": 11,
   "id": "6b7095d1-2b15-4075-a339-d18acd9cc8db",
   "metadata": {},
   "outputs": [
    {
     "name": "stdout",
     "output_type": "stream",
     "text": [
      "5\n"
     ]
    }
   ],
   "source": [
    "# obtain 5 in matrix\n",
    "print(matrix[1][1])"
   ]
  },
  {
   "cell_type": "code",
   "execution_count": null,
   "id": "c6bd38cc-2fa8-49af-9ca3-23839e0ac1f0",
   "metadata": {},
   "outputs": [],
   "source": []
  }
 ],
 "metadata": {
  "kernelspec": {
   "display_name": "Python [conda env:base] *",
   "language": "python",
   "name": "conda-base-py"
  },
  "language_info": {
   "codemirror_mode": {
    "name": "ipython",
    "version": 3
   },
   "file_extension": ".py",
   "mimetype": "text/x-python",
   "name": "python",
   "nbconvert_exporter": "python",
   "pygments_lexer": "ipython3",
   "version": "3.12.7"
  }
 },
 "nbformat": 4,
 "nbformat_minor": 5
}

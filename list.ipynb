{
 "cells": [
  {
   "cell_type": "code",
   "execution_count": null,
   "id": "523a10e5-a679-43b5-b173-bf1fcb2cf895",
   "metadata": {},
   "outputs": [],
   "source": [
    "# list --> Ordered collection of Data\n",
    "# You can store anything in lists like int,float, string"
   ]
  },
  {
   "cell_type": "code",
   "execution_count": 1,
   "id": "51e21c17-b51c-4cc1-9587-d415402caf1a",
   "metadata": {},
   "outputs": [
    {
     "name": "stdout",
     "output_type": "stream",
     "text": [
      "[2, 6, 8, 9, 25]\n",
      "<class 'list'>\n"
     ]
    }
   ],
   "source": [
    "number = [2,6,8,9,25]\n",
    "print(number)\n",
    "print(type(number))"
   ]
  },
  {
   "cell_type": "code",
   "execution_count": 3,
   "id": "ae42826c-89de-4b04-a313-d9405f9330a5",
   "metadata": {},
   "outputs": [
    {
     "name": "stdout",
     "output_type": "stream",
     "text": [
      "['Ritu', 'kavi', 'sanju', 'shree']\n"
     ]
    }
   ],
   "source": [
    "Words = ['Ritu',\"kavi\",\"sanju\",\"shree\"]\n",
    "print(Words) "
   ]
  },
  {
   "cell_type": "code",
   "execution_count": 5,
   "id": "556fed57-fbdb-476a-9a8c-7ca4dd54c11e",
   "metadata": {},
   "outputs": [
    {
     "name": "stdout",
     "output_type": "stream",
     "text": [
      "[1, 2, 3, 4, 'Five', 'Ten', 5.5, 7.7, None]\n"
     ]
    }
   ],
   "source": [
    "mixed = [1,2,3,4,\"Five\",'Ten', 5.5,7.7, None]\n",
    "print(mixed)"
   ]
  },
  {
   "cell_type": "code",
   "execution_count": 7,
   "id": "059ab8d3-4a0a-4d81-8dd4-874e1b50dd77",
   "metadata": {},
   "outputs": [
    {
     "name": "stdout",
     "output_type": "stream",
     "text": [
      "3\n",
      "n\n"
     ]
    }
   ],
   "source": [
    "# retrieve in list\n",
    "print(mixed[2])\n",
    "\n",
    "print(Words[2][2])"
   ]
  },
  {
   "cell_type": "code",
   "execution_count": 9,
   "id": "09cae90d-8c4a-478e-bbac-5a39ef53737a",
   "metadata": {},
   "outputs": [
    {
     "name": "stdout",
     "output_type": "stream",
     "text": [
      "[1, 2, 3, 4, 'Five', 'Ten', 5.5, 7.7, None]\n",
      "[1, 2, 'Three', 4, 'Five', 'Ten', 5.5, 7.7, None]\n"
     ]
    }
   ],
   "source": [
    "# Lists are mutable so we can change\n",
    "\n",
    "print(mixed)  # Before\n",
    "mixed[2]=\"Three\"\n",
    "print(mixed)  # after"
   ]
  },
  {
   "cell_type": "code",
   "execution_count": 11,
   "id": "fd23950e-f9dc-4e9c-9785-4a3111bab262",
   "metadata": {},
   "outputs": [
    {
     "name": "stdout",
     "output_type": "stream",
     "text": [
      "ina\n"
     ]
    }
   ],
   "source": [
    "words = ['ankita',\"Tina\",\"jagruti\",\"Babita\"]\n",
    "print(words[1][1:]) # obtain something in list element"
   ]
  }
 ],
 "metadata": {
  "kernelspec": {
   "display_name": "Python [conda env:base] *",
   "language": "python",
   "name": "conda-base-py"
  },
  "language_info": {
   "codemirror_mode": {
    "name": "ipython",
    "version": 3
   },
   "file_extension": ".py",
   "mimetype": "text/x-python",
   "name": "python",
   "nbconvert_exporter": "python",
   "pygments_lexer": "ipython3",
   "version": "3.12.7"
  }
 },
 "nbformat": 4,
 "nbformat_minor": 5
}

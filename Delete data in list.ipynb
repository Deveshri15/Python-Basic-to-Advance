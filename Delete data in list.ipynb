{
 "cells": [
  {
   "cell_type": "code",
   "execution_count": 1,
   "id": "8c459bb8-8180-436b-a0e4-1f4a319933b8",
   "metadata": {},
   "outputs": [],
   "source": [
    "# common  method to delete data from list\n",
    "fruits = [\"chiku\",\"apple\",\"Guava\",\"Banana\",\"Kiwi\"]"
   ]
  },
  {
   "cell_type": "code",
   "execution_count": 3,
   "id": "042626a1-538a-4dc0-8de9-d63ab9867a9c",
   "metadata": {},
   "outputs": [
    {
     "name": "stdout",
     "output_type": "stream",
     "text": [
      "['chiku', 'apple', 'Guava', 'Banana']\n",
      "['chiku', 'Guava', 'Banana']\n"
     ]
    }
   ],
   "source": [
    "# pop method\n",
    "\n",
    "fruits.pop() # delete last element if pass blank\n",
    "print(fruits)\n",
    "\n",
    "fruits.pop(1) # delete element whose index is given\n",
    "print(fruits)"
   ]
  },
  {
   "cell_type": "code",
   "execution_count": 5,
   "id": "3b36d75b-bab6-4943-ab12-48dba1866907",
   "metadata": {},
   "outputs": [
    {
     "name": "stdout",
     "output_type": "stream",
     "text": [
      "['chiku', 'Banana']\n"
     ]
    }
   ],
   "source": [
    "#del\n",
    "del fruits[1] # delete element whose index is given\n",
    "print(fruits)"
   ]
  },
  {
   "cell_type": "code",
   "execution_count": 7,
   "id": "383738d9-ac5c-4485-a97b-4ea8e11dd7da",
   "metadata": {},
   "outputs": [
    {
     "name": "stdout",
     "output_type": "stream",
     "text": [
      "['chiku']\n"
     ]
    }
   ],
   "source": [
    "# remove\n",
    "fruits.remove(\"Banana\")\n",
    "print(fruits)"
   ]
  }
 ],
 "metadata": {
  "kernelspec": {
   "display_name": "Python [conda env:base] *",
   "language": "python",
   "name": "conda-base-py"
  },
  "language_info": {
   "codemirror_mode": {
    "name": "ipython",
    "version": 3
   },
   "file_extension": ".py",
   "mimetype": "text/x-python",
   "name": "python",
   "nbconvert_exporter": "python",
   "pygments_lexer": "ipython3",
   "version": "3.12.7"
  }
 },
 "nbformat": 4,
 "nbformat_minor": 5
}

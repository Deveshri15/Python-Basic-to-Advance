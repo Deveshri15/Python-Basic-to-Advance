{
 "cells": [
  {
   "cell_type": "code",
   "execution_count": null,
   "id": "abd18ff6-db13-4618-bb36-e7c048c424e7",
   "metadata": {},
   "outputs": [],
   "source": [
    "# tuple data structure\n",
    "# tuple can store any data type\n",
    "# most important tuples are immutable, once tuple is create you can't update\n",
    "# data inside tuple\n",
    "\n",
    "example = (\"one\",\"two\",\"three\")\n",
    "# No append, no insert, no pop, no remove\n",
    "# tuples are faster than lists\n",
    "\n",
    "# Methods\n",
    "# ---> count, index\n",
    "# ---> len function\n",
    "# ---> slicing"
   ]
  },
  {
   "cell_type": "code",
   "execution_count": 1,
   "id": "84df5243-6d1a-46f6-be0a-8f4503c57e42",
   "metadata": {},
   "outputs": [],
   "source": [
    "# loops in tuples\n",
    "# tuple with one element\n",
    "# tuple without parenthesis\n",
    "# tuple unpacking\n",
    "# list inside tuple\n",
    "# some function that you can use with tuples\n",
    "\n",
    "mixed = (1,2,3,4.0)"
   ]
  },
  {
   "cell_type": "code",
   "execution_count": 3,
   "id": "0ee64295-1458-415d-adce-f6451bac0c36",
   "metadata": {},
   "outputs": [
    {
     "name": "stdout",
     "output_type": "stream",
     "text": [
      "1\n",
      "2\n",
      "3\n",
      "4.0\n"
     ]
    }
   ],
   "source": [
    "# for loop in tuple\n",
    "for i in mixed:\n",
    "    print(i)"
   ]
  },
  {
   "cell_type": "code",
   "execution_count": 5,
   "id": "57d01b2e-01d0-4781-a1c6-e86b63da0cd3",
   "metadata": {},
   "outputs": [
    {
     "name": "stdout",
     "output_type": "stream",
     "text": [
      "<class 'tuple'>\n",
      "<class 'tuple'>\n"
     ]
    }
   ],
   "source": [
    "# tuple with one element   ---> syntax ----> tuple = (element,) ----> comma is important\n",
    "nums = (1,)\n",
    "words = (\"word1\",)\n",
    "print(type(nums))\n",
    "print(type(words))"
   ]
  },
  {
   "cell_type": "code",
   "execution_count": 7,
   "id": "fef86233-94c9-4d78-82c8-9302cd2e5c03",
   "metadata": {},
   "outputs": [
    {
     "name": "stdout",
     "output_type": "stream",
     "text": [
      "('Akshy', 'katrina', 'salman')\n",
      "<class 'tuple'>\n"
     ]
    }
   ],
   "source": [
    "# tuple without parenthesis\n",
    "Actors = 'Akshy', \"katrina\", 'salman'\n",
    "print(Actors)\n",
    "print(type(Actors))"
   ]
  },
  {
   "cell_type": "code",
   "execution_count": 11,
   "id": "7ecb9ce4-2778-4a8b-8160-313762758a15",
   "metadata": {},
   "outputs": [
    {
     "name": "stdout",
     "output_type": "stream",
     "text": [
      "Ajay Atul <class 'str'>\n",
      "abhijit <class 'str'>\n",
      "sonu <class 'str'>\n"
     ]
    }
   ],
   "source": [
    "# tuple unpacking\n",
    "singerists = ('Ajay Atul', 'abhijit', \"sonu\")\n",
    "singerists1,singerists2,singerists3 = (singerists)\n",
    "print(singerists1, type(singerists1))\n",
    "print(singerists2, type(singerists2))\n",
    "print(singerists3, type(singerists3))"
   ]
  },
  {
   "cell_type": "code",
   "execution_count": 13,
   "id": "32dc6e4b-cb8e-4d9d-abe3-073daa640a21",
   "metadata": {},
   "outputs": [
    {
     "name": "stdout",
     "output_type": "stream",
     "text": [
      "('southern magnolia', ['Tokyo Ghoul Theme', 'landscape'])\n",
      "('southern magnolia', ['Tokyo Ghoul Theme'])\n",
      "('southern magnolia', ['Tokyo Ghoul Theme', 'John'])\n"
     ]
    }
   ],
   "source": [
    "# list inside tuple\n",
    "favorites = ('southern magnolia', ['Tokyo Ghoul Theme','landscape'])\n",
    "print(favorites)\n",
    "favorites[1].pop()\n",
    "print(favorites)\n",
    "favorites[1].append(\"John\")\n",
    "print(favorites)"
   ]
  },
  {
   "cell_type": "code",
   "execution_count": 15,
   "id": "7be5f2fc-49ad-4e98-a2c6-3a42d795d981",
   "metadata": {},
   "outputs": [
    {
     "name": "stdout",
     "output_type": "stream",
     "text": [
      "(1, 2, 3, 4.0)\n",
      "1\n",
      "4.0\n",
      "10.0\n"
     ]
    }
   ],
   "source": [
    "# some function that you can use with tuples\n",
    "# min(), max(), sum()\n",
    "mixed = (1,2,3,4.0)\n",
    "print(mixed)\n",
    "print(min(mixed))\n",
    "print(max(mixed))\n",
    "print(sum(mixed))"
   ]
  },
  {
   "cell_type": "code",
   "execution_count": 17,
   "id": "b90dad32-9762-4e13-afb3-07d40f2efb18",
   "metadata": {},
   "outputs": [
    {
     "name": "stdout",
     "output_type": "stream",
     "text": [
      "(1, 2, 3, 4, 5, 6, 7, 8, 9, 10)\n"
     ]
    }
   ],
   "source": [
    "# Something more about tuple, list, string\n",
    "nums = tuple(range(1,11))\n",
    "print(nums)"
   ]
  },
  {
   "cell_type": "code",
   "execution_count": 19,
   "id": "fcdb8839-56e1-4131-9e8e-524e4c59e877",
   "metadata": {},
   "outputs": [
    {
     "name": "stdout",
     "output_type": "stream",
     "text": [
      "[1, 2, 3, 4, 5, 6, 7, 8, 9, 10]\n"
     ]
    }
   ],
   "source": [
    "# Convert tuple to list\n",
    "ls_nums = list(nums)\n",
    "print(ls_nums)"
   ]
  },
  {
   "cell_type": "code",
   "execution_count": 21,
   "id": "214ecb2c-c7f1-4b20-a24f-4d43bfd53c09",
   "metadata": {},
   "outputs": [
    {
     "name": "stdout",
     "output_type": "stream",
     "text": [
      "(1, 2, 3, 4, 5, 6, 7, 8, 9, 10)\n",
      "<class 'tuple'>\n",
      "(1, 2, 3, 4, 5, 6, 7, 8, 9, 10)\n",
      "<class 'str'>\n"
     ]
    }
   ],
   "source": [
    "# Convert tuple to str\n",
    "print(nums)\n",
    "print(type(nums))\n",
    "str_num = str(nums)\n",
    "print(str_num)\n",
    "print(type(str_num))"
   ]
  },
  {
   "cell_type": "code",
   "execution_count": null,
   "id": "a4b36c12-ec64-467a-a574-9e43d45407d3",
   "metadata": {},
   "outputs": [],
   "source": []
  }
 ],
 "metadata": {
  "kernelspec": {
   "display_name": "Python [conda env:base] *",
   "language": "python",
   "name": "conda-base-py"
  },
  "language_info": {
   "codemirror_mode": {
    "name": "ipython",
    "version": 3
   },
   "file_extension": ".py",
   "mimetype": "text/x-python",
   "name": "python",
   "nbconvert_exporter": "python",
   "pygments_lexer": "ipython3",
   "version": "3.12.7"
  }
 },
 "nbformat": 4,
 "nbformat_minor": 5
}

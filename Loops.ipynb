{
 "cells": [
  {
   "cell_type": "code",
   "execution_count": 11,
   "id": "37dee5c9-1f4b-40eb-b255-2ccaca33dec1",
   "metadata": {},
   "outputs": [
    {
     "name": "stdin",
     "output_type": "stream",
     "text": [
      "Enter number:  21\n"
     ]
    },
    {
     "name": "stdout",
     "output_type": "stream",
     "text": [
      "Hello India! 1\n",
      "Hello India! 2\n",
      "Hello India! 3\n",
      "Hello India! 4\n",
      "Hello India! 5\n",
      "Hello India! 6\n",
      "Hello India! 7\n",
      "Hello India! 8\n",
      "Hello India! 9\n",
      "Hello India! 10\n",
      "Hello India! 11\n",
      "Hello India! 12\n",
      "Hello India! 13\n",
      "Hello India! 14\n",
      "Hello India! 15\n",
      "Hello India! 16\n",
      "Hello India! 17\n",
      "Hello India! 18\n",
      "Hello India! 19\n",
      "Hello India! 20\n",
      "Hello India! 21\n"
     ]
    }
   ],
   "source": [
    "# While loop\n",
    "\n",
    "# Print Hello India! as per user requirement\n",
    "\n",
    "user_input = int(input(\"Enter number: \"))\n",
    "i=1\n",
    "while i<=user_input:\n",
    "        print(\"Hello India!\", i)\n",
    "        i+=1"
   ]
  },
  {
   "cell_type": "code",
   "execution_count": 5,
   "id": "0375d4d1-a9fc-4270-a392-0a11d23eef53",
   "metadata": {},
   "outputs": [
    {
     "name": "stdin",
     "output_type": "stream",
     "text": [
      "Enter number:  5\n"
     ]
    },
    {
     "name": "stdout",
     "output_type": "stream",
     "text": [
      "Sum of 1 to 5 is 15\n"
     ]
    }
   ],
   "source": [
    "# Sum certain number by while loop\n",
    " \n",
    "user_input = int(input(\"Enter number: \"))\n",
    "total = 0\n",
    "i = 0\n",
    "while i <= user_input:\n",
    "        total+=i\n",
    "        i+=1\n",
    "print(f\"Sum of 1 to {user_input} is {total}\")"
   ]
  },
  {
   "cell_type": "code",
   "execution_count": 9,
   "id": "885fe5e1-847b-4275-ba3b-9d6b3b7e1be2",
   "metadata": {},
   "outputs": [
    {
     "name": "stdout",
     "output_type": "stream",
     "text": [
      "Hello Inida!\n",
      "Hello Inida!\n",
      "Hello Inida!\n",
      "Hello Inida!\n",
      "Hello Inida!\n",
      "Hello Inida!\n",
      "Hello Inida!\n"
     ]
    }
   ],
   "source": [
    "# for loops\n",
    "\n",
    "for i in range(7):\n",
    "        print(\"Hello Inida!\")"
   ]
  },
  {
   "cell_type": "code",
   "execution_count": 13,
   "id": "be96d91b-2dac-45f3-9e73-9523c5a00d5a",
   "metadata": {},
   "outputs": [
    {
     "name": "stdout",
     "output_type": "stream",
     "text": [
      "45\n"
     ]
    }
   ],
   "source": [
    "total=0\n",
    "for i in range(0,10):\n",
    "        total+=i\n",
    "print(total)"
   ]
  },
  {
   "cell_type": "code",
   "execution_count": 31,
   "id": "4b2ea365-3f8a-4f72-a1f3-93b2f09d9f6f",
   "metadata": {},
   "outputs": [
    {
     "name": "stdout",
     "output_type": "stream",
     "text": [
      "1\n",
      "2\n",
      "3\n",
      "4\n",
      "5\n",
      "6\n",
      "7\n",
      "8\n",
      "9\n"
     ]
    }
   ],
   "source": [
    "colours=[\"Blue\",\"Black\",\"Red\"]\n",
    "for i in range(1,10):\n",
    "          print(i)"
   ]
  },
  {
   "cell_type": "code",
   "execution_count": 33,
   "id": "619f09f1-ba3a-4640-9530-3b903bfe975f",
   "metadata": {},
   "outputs": [
    {
     "name": "stdout",
     "output_type": "stream",
     "text": [
      "1\n",
      "2\n",
      "3\n",
      "4\n"
     ]
    }
   ],
   "source": [
    "i=1\n",
    "while i<5:\n",
    "    print(i)\n",
    "    i+=1"
   ]
  },
  {
   "cell_type": "code",
   "execution_count": 3,
   "id": "4dc363ef-9a76-437d-b404-96c6d568762d",
   "metadata": {},
   "outputs": [
    {
     "name": "stdin",
     "output_type": "stream",
     "text": [
      "Enter Number here: 7\n"
     ]
    },
    {
     "name": "stdout",
     "output_type": "stream",
     "text": [
      "7\n"
     ]
    }
   ],
   "source": [
    "# Sum of number digits\n",
    "total=0\n",
    "number = input(\"Enter Number here:\")\n",
    "for i in number:\n",
    "        total+=int(i)\n",
    "print(total)"
   ]
  },
  {
   "cell_type": "code",
   "execution_count": 5,
   "id": "33e58daf-b7c8-4abe-91e3-0454d0def4e9",
   "metadata": {},
   "outputs": [
    {
     "name": "stdout",
     "output_type": "stream",
     "text": [
      "1\n",
      "2\n",
      "3\n",
      "4\n"
     ]
    }
   ],
   "source": [
    "# Break and Continue keyword\n",
    "\n",
    "# 1 to 10 print\n",
    "for i in range(1,11):\n",
    "        if i==5:\n",
    "                break\n",
    "        print(i)"
   ]
  },
  {
   "cell_type": "code",
   "execution_count": 7,
   "id": "306aa2f6-d728-4e94-9757-004b0fa984a8",
   "metadata": {},
   "outputs": [
    {
     "name": "stdout",
     "output_type": "stream",
     "text": [
      "1\n",
      "2\n",
      "3\n",
      "4\n",
      "6\n",
      "7\n",
      "8\n",
      "9\n",
      "10\n"
     ]
    }
   ],
   "source": [
    "# Continue\n",
    "# 1 to 10 print but not 5\n",
    "\n",
    "for i in range(1,11):\n",
    "        if i==5:\n",
    "                continue\n",
    "        print(i)"
   ]
  },
  {
   "cell_type": "code",
   "execution_count": null,
   "id": "a737b168-c096-4d65-8313-bd1feb5e2aaf",
   "metadata": {},
   "outputs": [],
   "source": []
  }
 ],
 "metadata": {
  "kernelspec": {
   "display_name": "Python [conda env:base] *",
   "language": "python",
   "name": "conda-base-py"
  },
  "language_info": {
   "codemirror_mode": {
    "name": "ipython",
    "version": 3
   },
   "file_extension": ".py",
   "mimetype": "text/x-python",
   "name": "python",
   "nbconvert_exporter": "python",
   "pygments_lexer": "ipython3",
   "version": "3.12.7"
  }
 },
 "nbformat": 4,
 "nbformat_minor": 5
}

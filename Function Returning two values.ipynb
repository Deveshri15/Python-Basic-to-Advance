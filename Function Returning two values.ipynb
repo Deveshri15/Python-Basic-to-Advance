{
 "cells": [
  {
   "cell_type": "code",
   "execution_count": 1,
   "id": "ede738ea-af86-4cbb-a36a-185e9a585a75",
   "metadata": {},
   "outputs": [
    {
     "name": "stdout",
     "output_type": "stream",
     "text": [
      "(20, 75)\n"
     ]
    }
   ],
   "source": [
    "# function returning two values in the form of tuple\n",
    "def func(num1,num2):\n",
    "    add = num1+num2\n",
    "    multiply = num1*num2\n",
    "    return add, multiply\n",
    "\n",
    "print(func(15,5)) # It return two values in the form of tuple"
   ]
  },
  {
   "cell_type": "code",
   "execution_count": 3,
   "id": "ae91595b-39ff-410a-9068-9734ebd0dcd7",
   "metadata": {},
   "outputs": [
    {
     "name": "stdout",
     "output_type": "stream",
     "text": [
      "20\n",
      "75\n"
     ]
    }
   ],
   "source": [
    "# to obtain that values individually\n",
    "addition,multiplication = func(15,5)\n",
    "print(addition)\n",
    "print(multiplication)"
   ]
  },
  {
   "cell_type": "code",
   "execution_count": null,
   "id": "e7c130bf-0986-493d-9aff-07b3926507d9",
   "metadata": {},
   "outputs": [],
   "source": []
  }
 ],
 "metadata": {
  "kernelspec": {
   "display_name": "Python [conda env:base] *",
   "language": "python",
   "name": "conda-base-py"
  },
  "language_info": {
   "codemirror_mode": {
    "name": "ipython",
    "version": 3
   },
   "file_extension": ".py",
   "mimetype": "text/x-python",
   "name": "python",
   "nbconvert_exporter": "python",
   "pygments_lexer": "ipython3",
   "version": "3.12.7"
  }
 },
 "nbformat": 4,
 "nbformat_minor": 5
}

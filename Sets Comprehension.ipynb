{
 "cells": [
  {
   "cell_type": "code",
   "execution_count": 1,
   "id": "bf1d8900-cd2e-4cbd-b8bf-606fb52d28fa",
   "metadata": {},
   "outputs": [
    {
     "name": "stdout",
     "output_type": "stream",
     "text": [
      "{0, 1, 64, 4, 36, 100, 9, 16, 49, 81, 25}\n"
     ]
    }
   ],
   "source": [
    "# set comprehension\n",
    "\n",
    "s = {i**2 for i in range(11)}\n",
    "print(s)"
   ]
  },
  {
   "cell_type": "code",
   "execution_count": 3,
   "id": "7ceee727-903b-47ae-92a5-2580c4efe381",
   "metadata": {},
   "outputs": [
    {
     "name": "stdout",
     "output_type": "stream",
     "text": [
      "[6, 4, 3, 3, 5, 7, 9, 5, 1, 9, 11, 10, 7, 9, 6, 5, 1, 1, 2, 7, 7, 10, 9, 11, 11, 10, 8, 10, 5, 7]\n"
     ]
    }
   ],
   "source": [
    "import random\n",
    "numbers = [random.randint(1,11) for _ in range(30)]\n",
    "print(numbers)"
   ]
  },
  {
   "cell_type": "code",
   "execution_count": 5,
   "id": "4b070867-510e-4ee9-9ade-45c92628f558",
   "metadata": {},
   "outputs": [
    {
     "name": "stdout",
     "output_type": "stream",
     "text": [
      "{8, 2, 3, 6}\n"
     ]
    }
   ],
   "source": [
    "s1 = {i  for i in [random.randint(1,10) for _ in range(6)]}\n",
    "print(s1)"
   ]
  },
  {
   "cell_type": "code",
   "execution_count": 9,
   "id": "a46eae25-209d-49db-83e4-3dd30b215a7a",
   "metadata": {},
   "outputs": [
    {
     "name": "stdout",
     "output_type": "stream",
     "text": [
      "{'A', 'R', 'K'}\n"
     ]
    }
   ],
   "source": [
    "names = (\"KAVITA\",\"ANKITA\",\"KOMTA\",\"KIRTA\",\"KALATA\",\"RENUTA\")\n",
    "word_initial = {name[0] for name in names}\n",
    "print(word_initial)"
   ]
  },
  {
   "cell_type": "code",
   "execution_count": null,
   "id": "7ed5410d-b64c-41b2-97d1-90cee0822fef",
   "metadata": {},
   "outputs": [],
   "source": []
  }
 ],
 "metadata": {
  "kernelspec": {
   "display_name": "Python [conda env:base] *",
   "language": "python",
   "name": "conda-base-py"
  },
  "language_info": {
   "codemirror_mode": {
    "name": "ipython",
    "version": 3
   },
   "file_extension": ".py",
   "mimetype": "text/x-python",
   "name": "python",
   "nbconvert_exporter": "python",
   "pygments_lexer": "ipython3",
   "version": "3.12.7"
  }
 },
 "nbformat": 4,
 "nbformat_minor": 5
}
